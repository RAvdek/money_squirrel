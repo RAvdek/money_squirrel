{
 "cells": [
  {
   "cell_type": "code",
   "execution_count": 191,
   "metadata": {
    "collapsed": false
   },
   "outputs": [
    {
     "name": "stderr",
     "output_type": "stream",
     "text": [
      "2017-07-08 10:59:57,455|money_squirrel.bin.utils|INFO|Loading JSON from /Users/ravdek/code/money_squirrel/money_squirrel/config/coins.json\n"
     ]
    }
   ],
   "source": [
    "import datetime as dt\n",
    "import pickle\n",
    "from pytz import timezone\n",
    "from matplotlib import pyplot as plt\n",
    "import pandas as pd\n",
    "from IPython.display import HTML\n",
    "from money_squirrel.bin import utils\n",
    "from sklearn.linear_model import SGDRegressor, LinearRegression\n",
    "from sklearn.ensemble import RandomForestRegressor\n",
    "\n",
    "import logging\n",
    "logger = logging.getLogger()\n",
    "logger.setLevel(logging.CRITICAL)\n",
    "\n",
    "COINS = utils.load_config(\"coins\")\n",
    "\n",
    "def display_all(df):\n",
    "    return HTML(df.to_html())"
   ]
  },
  {
   "cell_type": "code",
   "execution_count": 119,
   "metadata": {
    "collapsed": true
   },
   "outputs": [],
   "source": [
    "class BasePricePredictor(object):\n",
    "    \n",
    "    name = \"BASE\"\n",
    "    \n",
    "    def __init__(self, model):\n",
    "        self.model=model\n",
    "        self.data=None\n",
    "        self.x=None\n",
    "        self.y=None\n",
    "        \n",
    "    @classmethod\n",
    "    def from_file(cls, file_path):\n",
    "        with open(file_path, 'rb') as f:\n",
    "            return cls(model = pickle.load(f))\n",
    "            \n",
    "    def to_file(self, file_path):\n",
    "        with open(file_path, 'rb') as f:\n",
    "            pickle.dump(self.model, f)\n",
    "            \n",
    "    def _extract_features(self, start_dt, end_dt):\n",
    "        raise NotImplementedError\n",
    "        \n",
    "    def _extract_observations(self, start_dt, end_dt):\n",
    "        raise NotImplementedError\n",
    "        \n",
    "    def _transform_features(self):\n",
    "        raise NotImplementedError\n",
    "        \n",
    "    def _transform_observations(self):\n",
    "        # Use to create custom metrics\n",
    "        raise NotImplementedError\n",
    "        \n",
    "    def _tranform_prediction(self, prediction):\n",
    "        raise NotImplementedError\n",
    "        \n",
    "    def fit(self, start_dt, end_dt, *args, **kwargs):\n",
    "        self._extract_features(start_dt, end_dt)\n",
    "        self._extract_observations(start_dt, end_dt)\n",
    "        if len(self.y) == 0:\n",
    "            return\n",
    "        self._transform_features()\n",
    "        self._transform_observations()\n",
    "        self.model.fit(\n",
    "            X=self.x.sort_index(),\n",
    "            y=self.y.sort_index(),\n",
    "            *args,\n",
    "            **kwargs\n",
    "        )\n",
    "        \n",
    "    def predict(self, start_dt, end_dt, *args, **kwargs):\n",
    "        self._extract_features(start_dt, end_dt)\n",
    "        self._transform_features(dt)\n",
    "        output = self.model.predict(\n",
    "            X=self.x,\n",
    "            *args,\n",
    "            **kwargs\n",
    "        )\n",
    "        return self._transform_prediction(output)"
   ]
  },
  {
   "cell_type": "code",
   "execution_count": 241,
   "metadata": {
    "collapsed": false
   },
   "outputs": [],
   "source": [
    "class BTC30minPredictor(BasePricePredictor):\n",
    "    \n",
    "    def _extract_features(self, start_dt, end_dt):\n",
    "        query = \"\"\"\n",
    "            select dt, close\n",
    "            from gdax_api_quote\n",
    "            where dt <= TIMESTAMP '{end_dt}'\n",
    "                and dt >= TIMESTAMP '{start_dt}' \n",
    "                    - INTERVAL '180 minutes'\n",
    "                and granularity=60\n",
    "                and product_id = 'BTC-USD'\n",
    "            order by dt desc\n",
    "        \"\"\".format(start_dt=start_dt, end_dt=end_dt)\n",
    "        self.x = utils.query_pg(query)\n",
    "        \n",
    "    def _extract_observations(self, start_dt, end_dt):\n",
    "        query = \"\"\"\n",
    "            select dt, close\n",
    "            from gdax_api_quote\n",
    "            where dt <= TIMESTAMP '{end_dt}'\n",
    "                + INTERVAL '30 minutes'\n",
    "                and dt >= TIMESTAMP '{start_dt}'\n",
    "                and granularity=60\n",
    "                and product_id = 'BTC-USD'\n",
    "        \"\"\".format(start_dt=start_dt, end_dt=end_dt)\n",
    "        self.y = utils.query_pg(query)\n",
    "        \n",
    "    def _transform_features(self):\n",
    "        self.x = self.x.set_index('dt')\n",
    "        self.x = pd.concat([self.x.shift(-i) for i in range(150)], axis=1)\n",
    "        self.x.columns = range(150)\n",
    "        \n",
    "    def _transform_observations(self):\n",
    "        # going to use 100*(percent change in price from last)\n",
    "        self.y = self.y.set_index('dt')['close'].shift(30).dropna()\n",
    "        self.index = set(self.y.index) & set(self.x.index)\n",
    "        self.x = self.x.loc[self.index, :]\n",
    "        self.y = self.y[self.index]\n",
    "        last_close = self.x[0]\n",
    "        self.y = 100.0*((self.y - last_close)/last_close)\n",
    "        print self.y.describe()\n",
    "        \n",
    "    def _tranform_prediction(self, prediction):\n",
    "        last_close = self.x[0].reset_index()\n",
    "        prediction = (1.0 + prediction/100.0)*last_close"
   ]
  },
  {
   "cell_type": "code",
   "execution_count": 242,
   "metadata": {
    "collapsed": false
   },
   "outputs": [],
   "source": [
    "model = LinearRegression()\n",
    "predictor = BTC30minPredictor(model)"
   ]
  },
  {
   "cell_type": "code",
   "execution_count": 243,
   "metadata": {
    "collapsed": false
   },
   "outputs": [
    {
     "name": "stderr",
     "output_type": "stream",
     "text": [
      "2017-07-08 20:23:07,512|money_squirrel.bin.utils|INFO|Loading JSON from /Users/ravdek/code/money_squirrel/money_squirrel/config/postgres.json\n",
      "2017-07-08 20:23:07,513|money_squirrel.bin.utils|INFO|Connecting to postgres DB @ localhost\n",
      "2017-07-08 20:23:07,517|money_squirrel.bin.utils|INFO|Executing query:\n",
      "\n",
      "\n",
      "            select dt, close\n",
      "            from gdax_api_quote\n",
      "            where dt <= TIMESTAMP '2017-05-18 00:00:00+00:00'\n",
      "                and dt >= TIMESTAMP '2017-05-17 00:00:00+00:00' \n",
      "                    - INTERVAL '180 minutes'\n",
      "                and granularity=60\n",
      "                and product_id = 'BTC-USD'\n",
      "            order by dt desc\n",
      "        \n",
      "\n",
      "2017-07-08 20:23:07,759|money_squirrel.bin.utils|INFO|Loading JSON from /Users/ravdek/code/money_squirrel/money_squirrel/config/postgres.json\n",
      "2017-07-08 20:23:07,759|money_squirrel.bin.utils|INFO|Connecting to postgres DB @ localhost\n",
      "2017-07-08 20:23:07,763|money_squirrel.bin.utils|INFO|Executing query:\n",
      "\n",
      "\n",
      "            select dt, close\n",
      "            from gdax_api_quote\n",
      "            where dt <= TIMESTAMP '2017-05-18 00:00:00+00:00'\n",
      "                + INTERVAL '30 minutes'\n",
      "                and dt >= TIMESTAMP '2017-05-17 00:00:00+00:00'\n",
      "                and granularity=60\n",
      "                and product_id = 'BTC-USD'\n",
      "        \n",
      "\n"
     ]
    },
    {
     "name": "stdout",
     "output_type": "stream",
     "text": [
      "count    1408.000000\n",
      "mean        0.022334\n",
      "std         0.421698\n",
      "min        -1.181649\n",
      "25%        -0.181698\n",
      "50%         0.052574\n",
      "75%         0.219199\n",
      "max         1.521256\n",
      "dtype: float64\n"
     ]
    }
   ],
   "source": [
    "start_dt, end_dt = utils.get_utc_dt(2017,5,17), utils.get_utc_dt(2017,5,18)\n",
    "predictor.fit(start_dt, end_dt)"
   ]
  },
  {
   "cell_type": "code",
   "execution_count": 239,
   "metadata": {
    "collapsed": false
   },
   "outputs": [],
   "source": [
    "outcomes = pd.Series(predictor.model.predict(predictor.x), index=predictor.index)"
   ]
  },
  {
   "cell_type": "code",
   "execution_count": 240,
   "metadata": {
    "collapsed": false
   },
   "outputs": [
    {
     "name": "stderr",
     "output_type": "stream",
     "text": [
      "2017-07-08 20:21:27,718|money_squirrel.bin.utils|INFO|Loading JSON from /Users/ravdek/code/money_squirrel/money_squirrel/config/postgres.json\n",
      "2017-07-08 20:21:27,719|money_squirrel.bin.utils|INFO|Connecting to postgres DB @ localhost\n",
      "2017-07-08 20:21:27,722|money_squirrel.bin.utils|INFO|Executing query:\n",
      "\n",
      "\n",
      "    select dt, close\n",
      "    from gdax_api_quote\n",
      "    where dt <= TIMESTAMP '2017-05-18 00:00:00+00:00'\n",
      "        + INTERVAL '10 minutes'\n",
      "        and dt >= TIMESTAMP '2017-05-17 00:00:00+00:00'\n",
      "        and granularity=60\n",
      "        and product_id = 'BTC-USD'\n",
      "\n",
      "\n"
     ]
    },
    {
     "data": {
      "image/png": "[encoded data removed]",
      "text/plain": [
       "<matplotlib.figure.Figure at 0x110c687d0>"
      ]
     },
     "metadata": {},
     "output_type": "display_data"
    }
   ],
   "source": [
    "ax=outcomes.sort_index().plot()\n",
    "query = \"\"\"\n",
    "    select dt, close\n",
    "    from gdax_api_quote\n",
    "    where dt <= TIMESTAMP '{end_dt}'\n",
    "        + INTERVAL '10 minutes'\n",
    "        and dt >= TIMESTAMP '{start_dt}'\n",
    "        and granularity=60\n",
    "        and product_id = 'BTC-USD'\n",
    "\"\"\".format(start_dt=start_dt, end_dt=end_dt)\n",
    "actual = utils.query_pg(query).set_index('dt')['close'].sort_index().shift(-30).plot(ax=ax, color='red')"
   ]
  },
  {
   "cell_type": "code",
   "execution_count": null,
   "metadata": {
    "collapsed": true
   },
   "outputs": [],
   "source": []
  },
  {
   "cell_type": "code",
   "execution_count": null,
   "metadata": {
    "collapsed": true
   },
   "outputs": [],
   "source": []
  }
 ],
 "metadata": {
  "kernelspec": {
   "display_name": "Django Shell-Plus",
   "language": "python",
   "name": "django_extensions"
  },
  "language_info": {
   "codemirror_mode": {
    "name": "ipython",
    "version": 2
   },
   "file_extension": ".py",
   "mimetype": "text/x-python",
   "name": "python",
   "nbconvert_exporter": "python",
   "pygments_lexer": "ipython2",
   "version": "2.7.10"
  }
 },
 "nbformat": 4,
 "nbformat_minor": 2
}
