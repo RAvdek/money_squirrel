{
 "cells": [
  {
   "cell_type": "code",
   "execution_count": 1,
   "metadata": {
    "collapsed": false,
    "deletable": true,
    "editable": true
   },
   "outputs": [
    {
     "name": "stderr",
     "output_type": "stream",
     "text": [
      "2017-07-13 03:40:58,789|money_squirrel.bin.utils|INFO|Instantiated logger w/ name=money_squirrel.bin.utils\n",
      "2017-07-13 03:40:58,792|money_squirrel.bin.utils|INFO|Loading JSON from /Users/ravdek/code/money_squirrel/money_squirrel/config/coins.json\n"
     ]
    }
   ],
   "source": [
    "import datetime as dt\n",
    "import json\n",
    "from jinja2 import Template\n",
    "from pytz import timezone\n",
    "from matplotlib import pyplot as plt\n",
    "import pandas as pd\n",
    "from IPython.display import HTML\n",
    "from money_squirrel.bin import utils\n",
    "\n",
    "%matplotlib inline\n",
    "plt.rcParams['figure.figsize'] = (12, 7)\n",
    "\n",
    "COINS = utils.load_config(\"coins\")\n",
    "\n",
    "def display_all(df):\n",
    "    return HTML(df.to_html())"
   ]
  },
  {
   "cell_type": "code",
   "execution_count": 73,
   "metadata": {
    "collapsed": false,
    "deletable": true,
    "editable": true
   },
   "outputs": [
    {
     "name": "stderr",
     "output_type": "stream",
     "text": [
      "2017-07-13 05:12:49,776|money_squirrel.bin.utils|INFO|Loading JSON from /Users/ravdek/code/money_squirrel/money_squirrel/config/postgres.json\n",
      "2017-07-13 05:12:49,778|money_squirrel.bin.utils|INFO|Connecting to postgres DB @ localhost\n",
      "2017-07-13 05:12:49,781|money_squirrel.bin.utils|INFO|Executing query:\n",
      "\n",
      "\n",
      "    select *\n",
      "    from trends_api_interestovertime\n",
      "\n",
      "\n"
     ]
    }
   ],
   "source": [
    "df = utils.query_pg(\"\"\"\n",
    "    select *\n",
    "    from trends_api_interestovertime\n",
    "\"\"\")"
   ]
  },
  {
   "cell_type": "code",
   "execution_count": 74,
   "metadata": {
    "collapsed": false,
    "deletable": true,
    "editable": true
   },
   "outputs": [
    {
     "data": {
      "text/plain": [
       "(92610, 7)"
      ]
     },
     "execution_count": 74,
     "metadata": {},
     "output_type": "execute_result"
    }
   ],
   "source": [
    "df.shape"
   ]
  },
  {
   "cell_type": "code",
   "execution_count": 75,
   "metadata": {
    "collapsed": false,
    "deletable": true,
    "editable": true
   },
   "outputs": [
    {
     "data": {
      "text/html": [
       "<div>\n",
       "<style>\n",
       "    .dataframe thead tr:only-child th {\n",
       "        text-align: right;\n",
       "    }\n",
       "\n",
       "    .dataframe thead th {\n",
       "        text-align: left;\n",
       "    }\n",
       "\n",
       "    .dataframe tbody tr th {\n",
       "        vertical-align: top;\n",
       "    }\n",
       "</style>\n",
       "<table border=\"1\" class=\"dataframe\">\n",
       "  <thead>\n",
       "    <tr style=\"text-align: right;\">\n",
       "      <th></th>\n",
       "      <th>id</th>\n",
       "      <th>geo</th>\n",
       "      <th>dt</th>\n",
       "      <th>start_dt</th>\n",
       "      <th>end_dt</th>\n",
       "      <th>scores</th>\n",
       "      <th>search_terms</th>\n",
       "    </tr>\n",
       "  </thead>\n",
       "  <tbody>\n",
       "    <tr>\n",
       "      <th>0</th>\n",
       "      <td>None</td>\n",
       "      <td>None</td>\n",
       "      <td>2017-07-11 00:00:00</td>\n",
       "      <td>2017-07-06 05:00:00</td>\n",
       "      <td>2017-07-13 05:00:00</td>\n",
       "      <td>{\"litecoin\": 7, \"ethereum\": 42, \"bitcoin\": 87}</td>\n",
       "      <td>bitcoin, ethereum, litecoin</td>\n",
       "    </tr>\n",
       "    <tr>\n",
       "      <th>1</th>\n",
       "      <td>None</td>\n",
       "      <td>None</td>\n",
       "      <td>2017-07-11 00:00:00</td>\n",
       "      <td>2017-07-06 05:00:00</td>\n",
       "      <td>2017-07-13 05:00:00</td>\n",
       "      <td>{\"litecoin\": 7, \"ethereum\": 42, \"bitcoin\": 87}</td>\n",
       "      <td>bitcoin, ethereum, litecoin</td>\n",
       "    </tr>\n",
       "    <tr>\n",
       "      <th>2</th>\n",
       "      <td>None</td>\n",
       "      <td>None</td>\n",
       "      <td>2017-07-07 11:00:00</td>\n",
       "      <td>2017-07-06 05:00:00</td>\n",
       "      <td>2017-07-13 05:00:00</td>\n",
       "      <td>{\"litecoin\": 5, \"ethereum\": 21, \"bitcoin\": 62}</td>\n",
       "      <td>bitcoin, ethereum, litecoin</td>\n",
       "    </tr>\n",
       "    <tr>\n",
       "      <th>3</th>\n",
       "      <td>None</td>\n",
       "      <td>None</td>\n",
       "      <td>2017-07-07 11:00:00</td>\n",
       "      <td>2017-07-06 05:00:00</td>\n",
       "      <td>2017-07-13 05:00:00</td>\n",
       "      <td>{\"litecoin\": 5, \"ethereum\": 21, \"bitcoin\": 62}</td>\n",
       "      <td>bitcoin, ethereum, litecoin</td>\n",
       "    </tr>\n",
       "    <tr>\n",
       "      <th>4</th>\n",
       "      <td>None</td>\n",
       "      <td>None</td>\n",
       "      <td>2017-07-11 22:00:00</td>\n",
       "      <td>2017-07-06 05:00:00</td>\n",
       "      <td>2017-07-13 05:00:00</td>\n",
       "      <td>{\"litecoin\": 6, \"ethereum\": 39, \"bitcoin\": 79}</td>\n",
       "      <td>bitcoin, ethereum, litecoin</td>\n",
       "    </tr>\n",
       "  </tbody>\n",
       "</table>\n",
       "</div>"
      ],
      "text/plain": [
       "     id   geo                  dt            start_dt              end_dt  \\\n",
       "0  None  None 2017-07-11 00:00:00 2017-07-06 05:00:00 2017-07-13 05:00:00   \n",
       "1  None  None 2017-07-11 00:00:00 2017-07-06 05:00:00 2017-07-13 05:00:00   \n",
       "2  None  None 2017-07-07 11:00:00 2017-07-06 05:00:00 2017-07-13 05:00:00   \n",
       "3  None  None 2017-07-07 11:00:00 2017-07-06 05:00:00 2017-07-13 05:00:00   \n",
       "4  None  None 2017-07-11 22:00:00 2017-07-06 05:00:00 2017-07-13 05:00:00   \n",
       "\n",
       "                                           scores                 search_terms  \n",
       "0  {\"litecoin\": 7, \"ethereum\": 42, \"bitcoin\": 87}  bitcoin, ethereum, litecoin  \n",
       "1  {\"litecoin\": 7, \"ethereum\": 42, \"bitcoin\": 87}  bitcoin, ethereum, litecoin  \n",
       "2  {\"litecoin\": 5, \"ethereum\": 21, \"bitcoin\": 62}  bitcoin, ethereum, litecoin  \n",
       "3  {\"litecoin\": 5, \"ethereum\": 21, \"bitcoin\": 62}  bitcoin, ethereum, litecoin  \n",
       "4  {\"litecoin\": 6, \"ethereum\": 39, \"bitcoin\": 79}  bitcoin, ethereum, litecoin  "
      ]
     },
     "execution_count": 75,
     "metadata": {},
     "output_type": "execute_result"
    }
   ],
   "source": [
    "df.head()"
   ]
  },
  {
   "cell_type": "code",
   "execution_count": 76,
   "metadata": {
    "collapsed": false,
    "deletable": true,
    "editable": true
   },
   "outputs": [
    {
     "data": {
      "text/plain": [
       "end_dt\n",
       "2017-07-01 20:00:00    338\n",
       "2017-07-01 21:00:00    338\n",
       "2017-07-01 22:00:00    338\n",
       "2017-07-01 23:00:00    338\n",
       "2017-07-02 00:00:00    338\n",
       "2017-07-02 01:00:00    338\n",
       "2017-07-02 02:00:00    338\n",
       "2017-07-02 03:00:00    338\n",
       "2017-07-02 04:00:00    338\n",
       "2017-07-02 05:00:00    338\n",
       "2017-07-02 06:00:00    338\n",
       "2017-07-02 07:00:00    338\n",
       "2017-07-02 08:00:00    338\n",
       "2017-07-02 09:00:00    338\n",
       "2017-07-02 10:00:00    338\n",
       "2017-07-02 11:00:00    338\n",
       "2017-07-02 12:00:00    338\n",
       "2017-07-02 13:00:00    338\n",
       "2017-07-02 14:00:00    338\n",
       "2017-07-02 15:00:00    338\n",
       "2017-07-02 16:00:00    338\n",
       "2017-07-02 17:00:00    338\n",
       "2017-07-02 18:00:00    338\n",
       "2017-07-02 19:00:00    338\n",
       "2017-07-02 20:00:00    338\n",
       "2017-07-02 21:00:00    338\n",
       "2017-07-02 22:00:00    338\n",
       "2017-07-02 23:00:00    338\n",
       "2017-07-03 00:00:00    338\n",
       "2017-07-03 01:00:00    338\n",
       "                      ... \n",
       "2017-07-12 00:00:00    338\n",
       "2017-07-12 01:00:00    338\n",
       "2017-07-12 02:00:00    338\n",
       "2017-07-12 03:00:00    338\n",
       "2017-07-12 04:00:00    338\n",
       "2017-07-12 05:00:00    338\n",
       "2017-07-12 06:00:00    338\n",
       "2017-07-12 07:00:00    338\n",
       "2017-07-12 08:00:00    338\n",
       "2017-07-12 09:00:00    338\n",
       "2017-07-12 10:00:00    338\n",
       "2017-07-12 11:00:00    338\n",
       "2017-07-12 12:00:00    338\n",
       "2017-07-12 13:00:00    338\n",
       "2017-07-12 14:00:00    338\n",
       "2017-07-12 15:00:00    338\n",
       "2017-07-12 16:00:00    338\n",
       "2017-07-12 17:00:00    338\n",
       "2017-07-12 18:00:00    338\n",
       "2017-07-12 19:00:00    338\n",
       "2017-07-12 20:00:00    338\n",
       "2017-07-12 21:00:00    338\n",
       "2017-07-12 22:00:00    338\n",
       "2017-07-12 23:00:00    338\n",
       "2017-07-13 00:00:00    338\n",
       "2017-07-13 01:00:00    338\n",
       "2017-07-13 02:00:00    338\n",
       "2017-07-13 03:00:00    338\n",
       "2017-07-13 04:00:00    338\n",
       "2017-07-13 05:00:00    336\n",
       "Name: search_terms, Length: 274, dtype: int64"
      ]
     },
     "execution_count": 76,
     "metadata": {},
     "output_type": "execute_result"
    }
   ],
   "source": [
    "df.groupby('end_dt')['search_terms'].count()"
   ]
  },
  {
   "cell_type": "code",
   "execution_count": 77,
   "metadata": {
    "collapsed": false
   },
   "outputs": [],
   "source": [
    "for k in json.loads(df.loc[0, 'scores']):\n",
    "    df[k] = df['scores'].apply(lambda z: json.loads(z).get(k))"
   ]
  },
  {
   "cell_type": "code",
   "execution_count": 79,
   "metadata": {
    "collapsed": false
   },
   "outputs": [
    {
     "data": {
      "text/html": [
       "<div>\n",
       "<style>\n",
       "    .dataframe thead tr:only-child th {\n",
       "        text-align: right;\n",
       "    }\n",
       "\n",
       "    .dataframe thead th {\n",
       "        text-align: left;\n",
       "    }\n",
       "\n",
       "    .dataframe tbody tr th {\n",
       "        vertical-align: top;\n",
       "    }\n",
       "</style>\n",
       "<table border=\"1\" class=\"dataframe\">\n",
       "  <thead>\n",
       "    <tr style=\"text-align: right;\">\n",
       "      <th></th>\n",
       "      <th>litecoin</th>\n",
       "      <th>bitcoin</th>\n",
       "      <th>ethereum</th>\n",
       "    </tr>\n",
       "    <tr>\n",
       "      <th>dt</th>\n",
       "      <th></th>\n",
       "      <th></th>\n",
       "      <th></th>\n",
       "    </tr>\n",
       "  </thead>\n",
       "  <tbody>\n",
       "    <tr>\n",
       "      <th>2017-07-13 04:00:00</th>\n",
       "      <td>5</td>\n",
       "      <td>84</td>\n",
       "      <td>28</td>\n",
       "    </tr>\n",
       "    <tr>\n",
       "      <th>2017-07-13 04:00:00</th>\n",
       "      <td>5</td>\n",
       "      <td>84</td>\n",
       "      <td>28</td>\n",
       "    </tr>\n",
       "    <tr>\n",
       "      <th>2017-07-13 03:00:00</th>\n",
       "      <td>6</td>\n",
       "      <td>84</td>\n",
       "      <td>27</td>\n",
       "    </tr>\n",
       "    <tr>\n",
       "      <th>2017-07-13 03:00:00</th>\n",
       "      <td>6</td>\n",
       "      <td>84</td>\n",
       "      <td>27</td>\n",
       "    </tr>\n",
       "    <tr>\n",
       "      <th>2017-07-13 02:00:00</th>\n",
       "      <td>6</td>\n",
       "      <td>81</td>\n",
       "      <td>27</td>\n",
       "    </tr>\n",
       "  </tbody>\n",
       "</table>\n",
       "</div>"
      ],
      "text/plain": [
       "                     litecoin  bitcoin  ethereum\n",
       "dt                                              \n",
       "2017-07-13 04:00:00         5       84        28\n",
       "2017-07-13 04:00:00         5       84        28\n",
       "2017-07-13 03:00:00         6       84        27\n",
       "2017-07-13 03:00:00         6       84        27\n",
       "2017-07-13 02:00:00         6       81        27"
      ]
     },
     "execution_count": 79,
     "metadata": {},
     "output_type": "execute_result"
    }
   ],
   "source": [
    "df[df.dt == df.end_dt].head().set_index('dt')[['litecoin', 'bitcoin', 'ethereum']]"
   ]
  },
  {
   "cell_type": "code",
   "execution_count": null,
   "metadata": {
    "collapsed": true
   },
   "outputs": [],
   "source": []
  }
 ],
 "metadata": {
  "kernelspec": {
   "display_name": "Django Shell-Plus",
   "language": "python",
   "name": "django_extensions"
  },
  "language_info": {
   "codemirror_mode": {
    "name": "ipython",
    "version": 2
   },
   "file_extension": ".py",
   "mimetype": "text/x-python",
   "name": "python",
   "nbconvert_exporter": "python",
   "pygments_lexer": "ipython2",
   "version": "2.7.10"
  }
 },
 "nbformat": 4,
 "nbformat_minor": 2
}
