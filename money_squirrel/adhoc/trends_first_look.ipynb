{
 "cells": [
  {
   "cell_type": "code",
   "execution_count": 1,
   "metadata": {
    "collapsed": false,
    "deletable": true,
    "editable": true
   },
   "outputs": [
    {
     "name": "stderr",
     "output_type": "stream",
     "text": [
      "2017-07-07 03:59:39,116|money_squirrel.bin.utils|INFO|Instantiated logger w/ name=money_squirrel.bin.utils\n",
      "2017-07-07 03:59:39,119|money_squirrel.bin.utils|INFO|Loading JSON from /Users/ravdek/code/money_squirrel/money_squirrel/config/coins.json\n"
     ]
    }
   ],
   "source": [
    "import datetime as dt\n",
    "import json\n",
    "from jinja2 import Template\n",
    "from pytz import timezone\n",
    "from matplotlib import pyplot as plt\n",
    "import pandas as pd\n",
    "from IPython.display import HTML\n",
    "from money_squirrel.bin import utils\n",
    "\n",
    "%matplotlib inline\n",
    "plt.rcParams['figure.figsize'] = (12, 7)\n",
    "\n",
    "COINS = utils.load_config(\"coins\")\n",
    "\n",
    "def display_all(df):\n",
    "    return HTML(df.to_html())"
   ]
  },
  {
   "cell_type": "code",
   "execution_count": 16,
   "metadata": {
    "collapsed": false,
    "deletable": true,
    "editable": true
   },
   "outputs": [
    {
     "name": "stderr",
     "output_type": "stream",
     "text": [
      "2017-07-07 03:37:10,072|money_squirrel.bin.utils|INFO|Loading JSON from /Users/ravdek/code/money_squirrel/money_squirrel/config/postgres.json\n",
      "2017-07-07 03:37:10,073|money_squirrel.bin.utils|INFO|Connecting to postgres DB @ localhost\n",
      "2017-07-07 03:37:10,077|money_squirrel.bin.utils|INFO|Executing query:\n",
      "\n",
      "\n",
      "    select *\n",
      "    from trends_api_interestovertime\n",
      "\n",
      "\n"
     ]
    }
   ],
   "source": [
    "df = utils.query_pg(\"\"\"\n",
    "    select *\n",
    "    from trends_api_interestovertime\n",
    "\"\"\")"
   ]
  },
  {
   "cell_type": "code",
   "execution_count": 17,
   "metadata": {
    "collapsed": false,
    "deletable": true,
    "editable": true
   },
   "outputs": [
    {
     "data": {
      "text/plain": [
       "(241332, 7)"
      ]
     },
     "execution_count": 17,
     "metadata": {},
     "output_type": "execute_result"
    }
   ],
   "source": [
    "df.shape"
   ]
  },
  {
   "cell_type": "code",
   "execution_count": 18,
   "metadata": {
    "collapsed": false,
    "deletable": true,
    "editable": true
   },
   "outputs": [
    {
     "data": {
      "text/html": [
       "<div>\n",
       "<style>\n",
       "    .dataframe thead tr:only-child th {\n",
       "        text-align: right;\n",
       "    }\n",
       "\n",
       "    .dataframe thead th {\n",
       "        text-align: left;\n",
       "    }\n",
       "\n",
       "    .dataframe tbody tr th {\n",
       "        vertical-align: top;\n",
       "    }\n",
       "</style>\n",
       "<table border=\"1\" class=\"dataframe\">\n",
       "  <thead>\n",
       "    <tr style=\"text-align: right;\">\n",
       "      <th></th>\n",
       "      <th>id</th>\n",
       "      <th>geo</th>\n",
       "      <th>dt</th>\n",
       "      <th>start_dt</th>\n",
       "      <th>end_dt</th>\n",
       "      <th>scores</th>\n",
       "      <th>search_terms</th>\n",
       "    </tr>\n",
       "  </thead>\n",
       "  <tbody>\n",
       "    <tr>\n",
       "      <th>241327</th>\n",
       "      <td>241328</td>\n",
       "      <td>None</td>\n",
       "      <td>2017-06-08 18:00:00-07:00</td>\n",
       "      <td>2017-06-06 23:00:00-07:00</td>\n",
       "      <td>2017-06-13 23:00:00-07:00</td>\n",
       "      <td>{u'litecoin scam': 0, u'litecoin up': 40, u'li...</td>\n",
       "      <td>None</td>\n",
       "    </tr>\n",
       "    <tr>\n",
       "      <th>241328</th>\n",
       "      <td>241329</td>\n",
       "      <td>None</td>\n",
       "      <td>2017-06-12 23:00:00-07:00</td>\n",
       "      <td>2017-06-06 23:00:00-07:00</td>\n",
       "      <td>2017-06-13 23:00:00-07:00</td>\n",
       "      <td>{u'litecoin scam': 23, u'litecoin up': 31, u'l...</td>\n",
       "      <td>None</td>\n",
       "    </tr>\n",
       "    <tr>\n",
       "      <th>241329</th>\n",
       "      <td>241330</td>\n",
       "      <td>None</td>\n",
       "      <td>2017-06-13 23:00:00-07:00</td>\n",
       "      <td>2017-06-06 23:00:00-07:00</td>\n",
       "      <td>2017-06-13 23:00:00-07:00</td>\n",
       "      <td>{u'litecoin scam': 8, u'litecoin up': 39, u'li...</td>\n",
       "      <td>None</td>\n",
       "    </tr>\n",
       "    <tr>\n",
       "      <th>241330</th>\n",
       "      <td>241331</td>\n",
       "      <td>None</td>\n",
       "      <td>2017-06-10 06:00:00-07:00</td>\n",
       "      <td>2017-06-06 23:00:00-07:00</td>\n",
       "      <td>2017-06-13 23:00:00-07:00</td>\n",
       "      <td>{u'litecoin scam': 0, u'litecoin up': 13, u'li...</td>\n",
       "      <td>None</td>\n",
       "    </tr>\n",
       "    <tr>\n",
       "      <th>241331</th>\n",
       "      <td>241332</td>\n",
       "      <td>None</td>\n",
       "      <td>2017-06-10 00:00:00-07:00</td>\n",
       "      <td>2017-06-06 23:00:00-07:00</td>\n",
       "      <td>2017-06-13 23:00:00-07:00</td>\n",
       "      <td>{u'litecoin scam': 9, u'litecoin up': 35, u'li...</td>\n",
       "      <td>None</td>\n",
       "    </tr>\n",
       "  </tbody>\n",
       "</table>\n",
       "</div>"
      ],
      "text/plain": [
       "            id   geo                         dt                   start_dt  \\\n",
       "241327  241328  None  2017-06-08 18:00:00-07:00  2017-06-06 23:00:00-07:00   \n",
       "241328  241329  None  2017-06-12 23:00:00-07:00  2017-06-06 23:00:00-07:00   \n",
       "241329  241330  None  2017-06-13 23:00:00-07:00  2017-06-06 23:00:00-07:00   \n",
       "241330  241331  None  2017-06-10 06:00:00-07:00  2017-06-06 23:00:00-07:00   \n",
       "241331  241332  None  2017-06-10 00:00:00-07:00  2017-06-06 23:00:00-07:00   \n",
       "\n",
       "                           end_dt  \\\n",
       "241327  2017-06-13 23:00:00-07:00   \n",
       "241328  2017-06-13 23:00:00-07:00   \n",
       "241329  2017-06-13 23:00:00-07:00   \n",
       "241330  2017-06-13 23:00:00-07:00   \n",
       "241331  2017-06-13 23:00:00-07:00   \n",
       "\n",
       "                                                   scores search_terms  \n",
       "241327  {u'litecoin scam': 0, u'litecoin up': 40, u'li...         None  \n",
       "241328  {u'litecoin scam': 23, u'litecoin up': 31, u'l...         None  \n",
       "241329  {u'litecoin scam': 8, u'litecoin up': 39, u'li...         None  \n",
       "241330  {u'litecoin scam': 0, u'litecoin up': 13, u'li...         None  \n",
       "241331  {u'litecoin scam': 9, u'litecoin up': 35, u'li...         None  "
      ]
     },
     "execution_count": 18,
     "metadata": {},
     "output_type": "execute_result"
    }
   ],
   "source": [
    "df.tail()"
   ]
  },
  {
   "cell_type": "code",
   "execution_count": 7,
   "metadata": {
    "collapsed": false,
    "deletable": true,
    "editable": true
   },
   "outputs": [
    {
     "data": {
      "text/plain": [
       "datetime.datetime(2017, 6, 27, 17, 0, tzinfo=psycopg2.tz.FixedOffsetTimezone(offset=-420, name=None))"
      ]
     },
     "execution_count": 7,
     "metadata": {},
     "output_type": "execute_result"
    }
   ],
   "source": [
    "df.dt.max()"
   ]
  },
  {
   "cell_type": "code",
   "execution_count": 8,
   "metadata": {
    "collapsed": false,
    "deletable": true,
    "editable": true
   },
   "outputs": [
    {
     "data": {
      "text/plain": [
       "datetime.datetime(2016, 12, 27, 16, 0, tzinfo=psycopg2.tz.FixedOffsetTimezone(offset=-480, name=None))"
      ]
     },
     "execution_count": 8,
     "metadata": {},
     "output_type": "execute_result"
    }
   ],
   "source": [
    "df.dt.min()"
   ]
  },
  {
   "cell_type": "code",
   "execution_count": 9,
   "metadata": {
    "collapsed": false,
    "deletable": true,
    "editable": true
   },
   "outputs": [
    {
     "data": {
      "text/html": [
       "<div>\n",
       "<style>\n",
       "    .dataframe thead tr:only-child th {\n",
       "        text-align: right;\n",
       "    }\n",
       "\n",
       "    .dataframe thead th {\n",
       "        text-align: left;\n",
       "    }\n",
       "\n",
       "    .dataframe tbody tr th {\n",
       "        vertical-align: top;\n",
       "    }\n",
       "</style>\n",
       "<table border=\"1\" class=\"dataframe\">\n",
       "  <thead>\n",
       "    <tr style=\"text-align: right;\">\n",
       "      <th></th>\n",
       "      <th>id</th>\n",
       "      <th>geo</th>\n",
       "      <th>dt</th>\n",
       "      <th>start_dt</th>\n",
       "      <th>end_dt</th>\n",
       "      <th>scores</th>\n",
       "    </tr>\n",
       "  </thead>\n",
       "  <tbody>\n",
       "    <tr>\n",
       "      <th>18370</th>\n",
       "      <td>18371</td>\n",
       "      <td>None</td>\n",
       "      <td>2016-12-27 16:00:00-08:00</td>\n",
       "      <td>2016-12-27 16:00:00-08:00</td>\n",
       "      <td>2017-01-03 16:00:00-08:00</td>\n",
       "      <td>{u'litecoin': 1, u'ethereum': 3, u'bitcoin': 68}</td>\n",
       "    </tr>\n",
       "    <tr>\n",
       "      <th>18541</th>\n",
       "      <td>18540</td>\n",
       "      <td>None</td>\n",
       "      <td>2016-12-27 16:00:00-08:00</td>\n",
       "      <td>2016-12-27 16:00:00-08:00</td>\n",
       "      <td>2017-01-03 16:00:00-08:00</td>\n",
       "      <td>{u'bitcoin scam': 21, u'bitcoin crash': 3, u'b...</td>\n",
       "    </tr>\n",
       "    <tr>\n",
       "      <th>18711</th>\n",
       "      <td>18709</td>\n",
       "      <td>None</td>\n",
       "      <td>2016-12-27 16:00:00-08:00</td>\n",
       "      <td>2016-12-27 16:00:00-08:00</td>\n",
       "      <td>2017-01-03 16:00:00-08:00</td>\n",
       "      <td>{u'ethereum scam': 35, u'ethereum up': 17, u'e...</td>\n",
       "    </tr>\n",
       "    <tr>\n",
       "      <th>18880</th>\n",
       "      <td>18878</td>\n",
       "      <td>None</td>\n",
       "      <td>2016-12-27 16:00:00-08:00</td>\n",
       "      <td>2016-12-27 16:00:00-08:00</td>\n",
       "      <td>2017-01-03 16:00:00-08:00</td>\n",
       "      <td>{u'litecoin scam': 31, u'litecoin up': 0, u'li...</td>\n",
       "    </tr>\n",
       "    <tr>\n",
       "      <th>18347</th>\n",
       "      <td>18348</td>\n",
       "      <td>None</td>\n",
       "      <td>2016-12-27 17:00:00-08:00</td>\n",
       "      <td>2016-12-27 16:00:00-08:00</td>\n",
       "      <td>2017-01-03 16:00:00-08:00</td>\n",
       "      <td>{u'litecoin': 1, u'ethereum': 3, u'bitcoin': 63}</td>\n",
       "    </tr>\n",
       "    <tr>\n",
       "      <th>18517</th>\n",
       "      <td>18517</td>\n",
       "      <td>None</td>\n",
       "      <td>2016-12-27 17:00:00-08:00</td>\n",
       "      <td>2016-12-27 16:00:00-08:00</td>\n",
       "      <td>2017-01-03 16:00:00-08:00</td>\n",
       "      <td>{u'bitcoin scam': 46, u'bitcoin crash': 12, u'...</td>\n",
       "    </tr>\n",
       "    <tr>\n",
       "      <th>18688</th>\n",
       "      <td>18686</td>\n",
       "      <td>None</td>\n",
       "      <td>2016-12-27 17:00:00-08:00</td>\n",
       "      <td>2016-12-27 16:00:00-08:00</td>\n",
       "      <td>2017-01-03 16:00:00-08:00</td>\n",
       "      <td>{u'ethereum scam': 0, u'ethereum up': 54, u'et...</td>\n",
       "    </tr>\n",
       "    <tr>\n",
       "      <th>18857</th>\n",
       "      <td>18855</td>\n",
       "      <td>None</td>\n",
       "      <td>2016-12-27 17:00:00-08:00</td>\n",
       "      <td>2016-12-27 16:00:00-08:00</td>\n",
       "      <td>2017-01-03 16:00:00-08:00</td>\n",
       "      <td>{u'litecoin scam': 0, u'litecoin up': 0, u'lit...</td>\n",
       "    </tr>\n",
       "    <tr>\n",
       "      <th>18334</th>\n",
       "      <td>18335</td>\n",
       "      <td>None</td>\n",
       "      <td>2016-12-27 18:00:00-08:00</td>\n",
       "      <td>2016-12-27 16:00:00-08:00</td>\n",
       "      <td>2017-01-03 16:00:00-08:00</td>\n",
       "      <td>{u'litecoin': 1, u'ethereum': 3, u'bitcoin': 67}</td>\n",
       "    </tr>\n",
       "    <tr>\n",
       "      <th>18504</th>\n",
       "      <td>18504</td>\n",
       "      <td>None</td>\n",
       "      <td>2016-12-27 18:00:00-08:00</td>\n",
       "      <td>2016-12-27 16:00:00-08:00</td>\n",
       "      <td>2017-01-03 16:00:00-08:00</td>\n",
       "      <td>{u'bitcoin scam': 31, u'bitcoin crash': 9, u'b...</td>\n",
       "    </tr>\n",
       "    <tr>\n",
       "      <th>18675</th>\n",
       "      <td>18673</td>\n",
       "      <td>None</td>\n",
       "      <td>2016-12-27 18:00:00-08:00</td>\n",
       "      <td>2016-12-27 16:00:00-08:00</td>\n",
       "      <td>2017-01-03 16:00:00-08:00</td>\n",
       "      <td>{u'ethereum scam': 18, u'ethereum up': 54, u'e...</td>\n",
       "    </tr>\n",
       "    <tr>\n",
       "      <th>18844</th>\n",
       "      <td>18842</td>\n",
       "      <td>None</td>\n",
       "      <td>2016-12-27 18:00:00-08:00</td>\n",
       "      <td>2016-12-27 16:00:00-08:00</td>\n",
       "      <td>2017-01-03 16:00:00-08:00</td>\n",
       "      <td>{u'litecoin scam': 0, u'litecoin up': 0, u'lit...</td>\n",
       "    </tr>\n",
       "    <tr>\n",
       "      <th>18320</th>\n",
       "      <td>18321</td>\n",
       "      <td>None</td>\n",
       "      <td>2016-12-27 19:00:00-08:00</td>\n",
       "      <td>2016-12-27 16:00:00-08:00</td>\n",
       "      <td>2017-01-03 16:00:00-08:00</td>\n",
       "      <td>{u'litecoin': 1, u'ethereum': 3, u'bitcoin': 66}</td>\n",
       "    </tr>\n",
       "    <tr>\n",
       "      <th>18490</th>\n",
       "      <td>18490</td>\n",
       "      <td>None</td>\n",
       "      <td>2016-12-27 19:00:00-08:00</td>\n",
       "      <td>2016-12-27 16:00:00-08:00</td>\n",
       "      <td>2017-01-03 16:00:00-08:00</td>\n",
       "      <td>{u'bitcoin scam': 60, u'bitcoin crash': 6, u'b...</td>\n",
       "    </tr>\n",
       "    <tr>\n",
       "      <th>18661</th>\n",
       "      <td>18659</td>\n",
       "      <td>None</td>\n",
       "      <td>2016-12-27 19:00:00-08:00</td>\n",
       "      <td>2016-12-27 16:00:00-08:00</td>\n",
       "      <td>2017-01-03 16:00:00-08:00</td>\n",
       "      <td>{u'ethereum scam': 0, u'ethereum up': 0, u'eth...</td>\n",
       "    </tr>\n",
       "    <tr>\n",
       "      <th>18830</th>\n",
       "      <td>18828</td>\n",
       "      <td>None</td>\n",
       "      <td>2016-12-27 19:00:00-08:00</td>\n",
       "      <td>2016-12-27 16:00:00-08:00</td>\n",
       "      <td>2017-01-03 16:00:00-08:00</td>\n",
       "      <td>{u'litecoin scam': 32, u'litecoin up': 0, u'li...</td>\n",
       "    </tr>\n",
       "    <tr>\n",
       "      <th>18306</th>\n",
       "      <td>18307</td>\n",
       "      <td>None</td>\n",
       "      <td>2016-12-27 20:00:00-08:00</td>\n",
       "      <td>2016-12-27 16:00:00-08:00</td>\n",
       "      <td>2017-01-03 16:00:00-08:00</td>\n",
       "      <td>{u'litecoin': 1, u'ethereum': 3, u'bitcoin': 67}</td>\n",
       "    </tr>\n",
       "    <tr>\n",
       "      <th>18475</th>\n",
       "      <td>18476</td>\n",
       "      <td>None</td>\n",
       "      <td>2016-12-27 20:00:00-08:00</td>\n",
       "      <td>2016-12-27 16:00:00-08:00</td>\n",
       "      <td>2017-01-03 16:00:00-08:00</td>\n",
       "      <td>{u'bitcoin scam': 46, u'bitcoin crash': 20, u'...</td>\n",
       "    </tr>\n",
       "    <tr>\n",
       "      <th>18647</th>\n",
       "      <td>18645</td>\n",
       "      <td>None</td>\n",
       "      <td>2016-12-27 20:00:00-08:00</td>\n",
       "      <td>2016-12-27 16:00:00-08:00</td>\n",
       "      <td>2017-01-03 16:00:00-08:00</td>\n",
       "      <td>{u'ethereum scam': 0, u'ethereum up': 0, u'eth...</td>\n",
       "    </tr>\n",
       "    <tr>\n",
       "      <th>18816</th>\n",
       "      <td>18814</td>\n",
       "      <td>None</td>\n",
       "      <td>2016-12-27 20:00:00-08:00</td>\n",
       "      <td>2016-12-27 16:00:00-08:00</td>\n",
       "      <td>2017-01-03 16:00:00-08:00</td>\n",
       "      <td>{u'litecoin scam': 0, u'litecoin up': 0, u'lit...</td>\n",
       "    </tr>\n",
       "  </tbody>\n",
       "</table>\n",
       "</div>"
      ],
      "text/plain": [
       "          id   geo                         dt                   start_dt  \\\n",
       "18370  18371  None  2016-12-27 16:00:00-08:00  2016-12-27 16:00:00-08:00   \n",
       "18541  18540  None  2016-12-27 16:00:00-08:00  2016-12-27 16:00:00-08:00   \n",
       "18711  18709  None  2016-12-27 16:00:00-08:00  2016-12-27 16:00:00-08:00   \n",
       "18880  18878  None  2016-12-27 16:00:00-08:00  2016-12-27 16:00:00-08:00   \n",
       "18347  18348  None  2016-12-27 17:00:00-08:00  2016-12-27 16:00:00-08:00   \n",
       "18517  18517  None  2016-12-27 17:00:00-08:00  2016-12-27 16:00:00-08:00   \n",
       "18688  18686  None  2016-12-27 17:00:00-08:00  2016-12-27 16:00:00-08:00   \n",
       "18857  18855  None  2016-12-27 17:00:00-08:00  2016-12-27 16:00:00-08:00   \n",
       "18334  18335  None  2016-12-27 18:00:00-08:00  2016-12-27 16:00:00-08:00   \n",
       "18504  18504  None  2016-12-27 18:00:00-08:00  2016-12-27 16:00:00-08:00   \n",
       "18675  18673  None  2016-12-27 18:00:00-08:00  2016-12-27 16:00:00-08:00   \n",
       "18844  18842  None  2016-12-27 18:00:00-08:00  2016-12-27 16:00:00-08:00   \n",
       "18320  18321  None  2016-12-27 19:00:00-08:00  2016-12-27 16:00:00-08:00   \n",
       "18490  18490  None  2016-12-27 19:00:00-08:00  2016-12-27 16:00:00-08:00   \n",
       "18661  18659  None  2016-12-27 19:00:00-08:00  2016-12-27 16:00:00-08:00   \n",
       "18830  18828  None  2016-12-27 19:00:00-08:00  2016-12-27 16:00:00-08:00   \n",
       "18306  18307  None  2016-12-27 20:00:00-08:00  2016-12-27 16:00:00-08:00   \n",
       "18475  18476  None  2016-12-27 20:00:00-08:00  2016-12-27 16:00:00-08:00   \n",
       "18647  18645  None  2016-12-27 20:00:00-08:00  2016-12-27 16:00:00-08:00   \n",
       "18816  18814  None  2016-12-27 20:00:00-08:00  2016-12-27 16:00:00-08:00   \n",
       "\n",
       "                          end_dt  \\\n",
       "18370  2017-01-03 16:00:00-08:00   \n",
       "18541  2017-01-03 16:00:00-08:00   \n",
       "18711  2017-01-03 16:00:00-08:00   \n",
       "18880  2017-01-03 16:00:00-08:00   \n",
       "18347  2017-01-03 16:00:00-08:00   \n",
       "18517  2017-01-03 16:00:00-08:00   \n",
       "18688  2017-01-03 16:00:00-08:00   \n",
       "18857  2017-01-03 16:00:00-08:00   \n",
       "18334  2017-01-03 16:00:00-08:00   \n",
       "18504  2017-01-03 16:00:00-08:00   \n",
       "18675  2017-01-03 16:00:00-08:00   \n",
       "18844  2017-01-03 16:00:00-08:00   \n",
       "18320  2017-01-03 16:00:00-08:00   \n",
       "18490  2017-01-03 16:00:00-08:00   \n",
       "18661  2017-01-03 16:00:00-08:00   \n",
       "18830  2017-01-03 16:00:00-08:00   \n",
       "18306  2017-01-03 16:00:00-08:00   \n",
       "18475  2017-01-03 16:00:00-08:00   \n",
       "18647  2017-01-03 16:00:00-08:00   \n",
       "18816  2017-01-03 16:00:00-08:00   \n",
       "\n",
       "                                                  scores  \n",
       "18370   {u'litecoin': 1, u'ethereum': 3, u'bitcoin': 68}  \n",
       "18541  {u'bitcoin scam': 21, u'bitcoin crash': 3, u'b...  \n",
       "18711  {u'ethereum scam': 35, u'ethereum up': 17, u'e...  \n",
       "18880  {u'litecoin scam': 31, u'litecoin up': 0, u'li...  \n",
       "18347   {u'litecoin': 1, u'ethereum': 3, u'bitcoin': 63}  \n",
       "18517  {u'bitcoin scam': 46, u'bitcoin crash': 12, u'...  \n",
       "18688  {u'ethereum scam': 0, u'ethereum up': 54, u'et...  \n",
       "18857  {u'litecoin scam': 0, u'litecoin up': 0, u'lit...  \n",
       "18334   {u'litecoin': 1, u'ethereum': 3, u'bitcoin': 67}  \n",
       "18504  {u'bitcoin scam': 31, u'bitcoin crash': 9, u'b...  \n",
       "18675  {u'ethereum scam': 18, u'ethereum up': 54, u'e...  \n",
       "18844  {u'litecoin scam': 0, u'litecoin up': 0, u'lit...  \n",
       "18320   {u'litecoin': 1, u'ethereum': 3, u'bitcoin': 66}  \n",
       "18490  {u'bitcoin scam': 60, u'bitcoin crash': 6, u'b...  \n",
       "18661  {u'ethereum scam': 0, u'ethereum up': 0, u'eth...  \n",
       "18830  {u'litecoin scam': 32, u'litecoin up': 0, u'li...  \n",
       "18306   {u'litecoin': 1, u'ethereum': 3, u'bitcoin': 67}  \n",
       "18475  {u'bitcoin scam': 46, u'bitcoin crash': 20, u'...  \n",
       "18647  {u'ethereum scam': 0, u'ethereum up': 0, u'eth...  \n",
       "18816  {u'litecoin scam': 0, u'litecoin up': 0, u'lit...  "
      ]
     },
     "execution_count": 9,
     "metadata": {},
     "output_type": "execute_result"
    }
   ],
   "source": [
    "df.sort_values(['end_dt', 'dt']).head(20)"
   ]
  },
  {
   "cell_type": "code",
   "execution_count": 10,
   "metadata": {
    "collapsed": false,
    "deletable": true,
    "editable": true
   },
   "outputs": [
    {
     "data": {
      "text/plain": [
       "<matplotlib.axes._subplots.AxesSubplot at 0x10de0df90>"
      ]
     },
     "execution_count": 10,
     "metadata": {},
     "output_type": "execute_result"
    },
    {
     "data": {
      "image/png": "[encoded data removed]",
      "text/plain": [
       "<matplotlib.figure.Figure at 0x110feff90>"
      ]
     },
     "metadata": {},
     "output_type": "display_data"
    }
   ],
   "source": [
    "df.end_dt.value_counts().sort_index().plot()"
   ]
  },
  {
   "cell_type": "code",
   "execution_count": 11,
   "metadata": {
    "collapsed": false,
    "deletable": true,
    "editable": true
   },
   "outputs": [],
   "source": [
    "one_end_time = df[df.end_dt.apply(lambda z: str(z)=='2017-01-03 16:00:00-08:00')]"
   ]
  },
  {
   "cell_type": "code",
   "execution_count": 12,
   "metadata": {
    "collapsed": false,
    "deletable": true,
    "editable": true
   },
   "outputs": [
    {
     "data": {
      "text/plain": [
       "(676, 6)"
      ]
     },
     "execution_count": 12,
     "metadata": {},
     "output_type": "execute_result"
    }
   ],
   "source": [
    "one_end_time.shape"
   ]
  },
  {
   "cell_type": "code",
   "execution_count": 15,
   "metadata": {
    "collapsed": false,
    "deletable": true,
    "editable": true
   },
   "outputs": [
    {
     "data": {
      "text/plain": [
       "[u'litecoin', u'ethereum', u'bitcoin']"
      ]
     },
     "execution_count": 15,
     "metadata": {},
     "output_type": "execute_result"
    }
   ],
   "source": [
    "df.loc[0, 'scores'].keys()"
   ]
  },
  {
   "cell_type": "code",
   "execution_count": 3,
   "metadata": {
    "collapsed": false,
    "deletable": true,
    "editable": true
   },
   "outputs": [],
   "source": [
    "import money_squirrel.trends_api"
   ]
  },
  {
   "cell_type": "code",
   "execution_count": 4,
   "metadata": {
    "collapsed": false
   },
   "outputs": [
    {
     "data": {
      "text/plain": [
       "['__builtins__', '__doc__', '__file__', '__name__', '__package__', '__path__']"
      ]
     },
     "execution_count": 4,
     "metadata": {},
     "output_type": "execute_result"
    }
   ],
   "source": [
    "dir(money_squirrel.trends_api)"
   ]
  },
  {
   "cell_type": "code",
   "execution_count": 5,
   "metadata": {
    "collapsed": true
   },
   "outputs": [],
   "source": [
    "import scipy"
   ]
  },
  {
   "cell_type": "code",
   "execution_count": null,
   "metadata": {
    "collapsed": true
   },
   "outputs": [],
   "source": []
  }
 ],
 "metadata": {
  "kernelspec": {
   "display_name": "Django Shell-Plus",
   "language": "python",
   "name": "django_extensions"
  },
  "language_info": {
   "codemirror_mode": {
    "name": "ipython",
    "version": 2
   },
   "file_extension": ".py",
   "mimetype": "text/x-python",
   "name": "python",
   "nbconvert_exporter": "python",
   "pygments_lexer": "ipython2",
   "version": "2.7.10"
  }
 },
 "nbformat": 4,
 "nbformat_minor": 2
}
