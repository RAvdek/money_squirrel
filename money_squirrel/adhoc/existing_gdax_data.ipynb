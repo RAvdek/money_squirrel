{
 "cells": [
  {
   "cell_type": "code",
   "execution_count": 28,
   "metadata": {
    "collapsed": false,
    "deletable": true,
    "editable": true
   },
   "outputs": [
    {
     "name": "stderr",
     "output_type": "stream",
     "text": [
      "2017-06-26 05:53:15,738|money_squirrel.bin.utils|INFO|Loading JSON from /Users/ravdek/code/money_squirrel/money_squirrel/config/coins.json\n"
     ]
    }
   ],
   "source": [
    "import datetime as dt\n",
    "from pytz import timezone\n",
    "from matplotlib import pyplot as plt\n",
    "import pandas as pd\n",
    "from IPython.display import HTML\n",
    "from money_squirrel.bin import utils\n",
    "\n",
    "%matplotlib inline\n",
    "plt.rcParams['figure.figsize'] = (12, 7)\n",
    "\n",
    "COINS = utils.load_config(\"coins\")\n",
    "\n",
    "def display_all(df):\n",
    "    return HTML(df.to_html())"
   ]
  },
  {
   "cell_type": "code",
   "execution_count": 63,
   "metadata": {
    "collapsed": false,
    "deletable": true,
    "editable": true
   },
   "outputs": [
    {
     "name": "stderr",
     "output_type": "stream",
     "text": [
      "2017-06-27 16:19:54,364|money_squirrel.bin.utils|INFO|Loading JSON from /Users/ravdek/code/money_squirrel/money_squirrel/config/postgres.json\n",
      "2017-06-27 16:19:54,365|money_squirrel.bin.utils|INFO|Connecting to postgres DB @ localhost\n",
      "2017-06-27 16:19:54,368|money_squirrel.bin.utils|INFO|Executing query:\n",
      "\n",
      "select * from gdax_api_quote\n",
      "\n"
     ]
    }
   ],
   "source": [
    "gdax_price = utils.query_pg(\"select * from gdax_api_quote\")"
   ]
  },
  {
   "cell_type": "code",
   "execution_count": 64,
   "metadata": {
    "collapsed": false,
    "deletable": true,
    "editable": true
   },
   "outputs": [
    {
     "data": {
      "text/html": [
       "<div>\n",
       "<table border=\"1\" class=\"dataframe\">\n",
       "  <thead>\n",
       "    <tr style=\"text-align: right;\">\n",
       "      <th></th>\n",
       "      <th>id</th>\n",
       "      <th>product_id</th>\n",
       "      <th>granularity</th>\n",
       "      <th>dt</th>\n",
       "      <th>low</th>\n",
       "      <th>high</th>\n",
       "      <th>open</th>\n",
       "      <th>close</th>\n",
       "      <th>volume</th>\n",
       "    </tr>\n",
       "  </thead>\n",
       "  <tbody>\n",
       "    <tr>\n",
       "      <th>0</th>\n",
       "      <td>1</td>\n",
       "      <td>BTC-USD</td>\n",
       "      <td>20</td>\n",
       "      <td>2017-06-25 23:39:20-07:00</td>\n",
       "      <td>2489.36</td>\n",
       "      <td>2489.71</td>\n",
       "      <td>2489.47</td>\n",
       "      <td>2489.36</td>\n",
       "      <td>4.232061</td>\n",
       "    </tr>\n",
       "    <tr>\n",
       "      <th>1</th>\n",
       "      <td>2</td>\n",
       "      <td>BTC-USD</td>\n",
       "      <td>20</td>\n",
       "      <td>2017-06-25 23:38:40-07:00</td>\n",
       "      <td>2488.17</td>\n",
       "      <td>2489.96</td>\n",
       "      <td>2488.17</td>\n",
       "      <td>2489.96</td>\n",
       "      <td>0.102200</td>\n",
       "    </tr>\n",
       "    <tr>\n",
       "      <th>2</th>\n",
       "      <td>3</td>\n",
       "      <td>BTC-USD</td>\n",
       "      <td>20</td>\n",
       "      <td>2017-06-25 23:38:20-07:00</td>\n",
       "      <td>2486.56</td>\n",
       "      <td>2489.96</td>\n",
       "      <td>2487.47</td>\n",
       "      <td>2489.96</td>\n",
       "      <td>2.362538</td>\n",
       "    </tr>\n",
       "    <tr>\n",
       "      <th>3</th>\n",
       "      <td>4</td>\n",
       "      <td>BTC-USD</td>\n",
       "      <td>20</td>\n",
       "      <td>2017-06-25 23:38:00-07:00</td>\n",
       "      <td>2486.24</td>\n",
       "      <td>2489.97</td>\n",
       "      <td>2486.24</td>\n",
       "      <td>2489.97</td>\n",
       "      <td>4.472527</td>\n",
       "    </tr>\n",
       "    <tr>\n",
       "      <th>4</th>\n",
       "      <td>5</td>\n",
       "      <td>BTC-USD</td>\n",
       "      <td>20</td>\n",
       "      <td>2017-06-25 23:37:40-07:00</td>\n",
       "      <td>2486.11</td>\n",
       "      <td>2487.67</td>\n",
       "      <td>2486.11</td>\n",
       "      <td>2486.16</td>\n",
       "      <td>2.713689</td>\n",
       "    </tr>\n",
       "  </tbody>\n",
       "</table>\n",
       "</div>"
      ],
      "text/plain": [
       "   id product_id  granularity                         dt      low     high  \\\n",
       "0   1    BTC-USD           20  2017-06-25 23:39:20-07:00  2489.36  2489.71   \n",
       "1   2    BTC-USD           20  2017-06-25 23:38:40-07:00  2488.17  2489.96   \n",
       "2   3    BTC-USD           20  2017-06-25 23:38:20-07:00  2486.56  2489.96   \n",
       "3   4    BTC-USD           20  2017-06-25 23:38:00-07:00  2486.24  2489.97   \n",
       "4   5    BTC-USD           20  2017-06-25 23:37:40-07:00  2486.11  2487.67   \n",
       "\n",
       "      open    close    volume  \n",
       "0  2489.47  2489.36  4.232061  \n",
       "1  2488.17  2489.96  0.102200  \n",
       "2  2487.47  2489.96  2.362538  \n",
       "3  2486.24  2489.97  4.472527  \n",
       "4  2486.11  2486.16  2.713689  "
      ]
     },
     "execution_count": 64,
     "metadata": {},
     "output_type": "execute_result"
    }
   ],
   "source": [
    "gdax_price.head()"
   ]
  },
  {
   "cell_type": "code",
   "execution_count": 65,
   "metadata": {
    "collapsed": false,
    "deletable": true,
    "editable": true
   },
   "outputs": [
    {
     "data": {
      "text/plain": [
       "60    557643\n",
       "20        43\n",
       "Name: granularity, dtype: int64"
      ]
     },
     "execution_count": 65,
     "metadata": {},
     "output_type": "execute_result"
    }
   ],
   "source": [
    "gdax_price['granularity'].value_counts()"
   ]
  },
  {
   "cell_type": "code",
   "execution_count": 61,
   "metadata": {
    "collapsed": false
   },
   "outputs": [
    {
     "data": {
      "text/plain": [
       "pandas.tslib.Timestamp"
      ]
     },
     "execution_count": 61,
     "metadata": {},
     "output_type": "execute_result"
    }
   ],
   "source": [
    "gdax_price.loc[0, 'dt'].__class__"
   ]
  },
  {
   "cell_type": "code",
   "execution_count": 66,
   "metadata": {
    "collapsed": false
   },
   "outputs": [
    {
     "data": {
      "text/plain": [
       "<matplotlib.axes._subplots.AxesSubplot at 0x11afe8c50>"
      ]
     },
     "execution_count": 66,
     "metadata": {},
     "output_type": "execute_result"
    },
    {
     "data": {
      "image/png": "[encoded data removed]",
      "text/plain": [
       "<matplotlib.figure.Figure at 0x12584dc90>"
      ]
     },
     "metadata": {},
     "output_type": "display_data"
    }
   ],
   "source": [
    "gdax_price.loc[gdax_price['granularity']==60, 'dt'].value_counts().plot()"
   ]
  },
  {
   "cell_type": "code",
   "execution_count": 37,
   "metadata": {
    "collapsed": false
   },
   "outputs": [
    {
     "data": {
      "text/plain": [
       "datetime.datetime(2017, 4, 11, 9, 39, tzinfo=<UTC>)"
      ]
     },
     "execution_count": 37,
     "metadata": {},
     "output_type": "execute_result"
    }
   ],
   "source": [
    "gdax_price.loc[gdax_price['granularity']==60, 'dt'].max().replace(tzinfo=timezone('UTC'))"
   ]
  },
  {
   "cell_type": "code",
   "execution_count": 53,
   "metadata": {
    "collapsed": false
   },
   "outputs": [
    {
     "data": {
      "text/plain": [
       "False    554735\n",
       "Name: dt, dtype: int64"
      ]
     },
     "execution_count": 53,
     "metadata": {},
     "output_type": "execute_result"
    }
   ],
   "source": [
    "gdax_price.dt.isnull().value_counts()"
   ]
  },
  {
   "cell_type": "code",
   "execution_count": 54,
   "metadata": {
    "collapsed": false
   },
   "outputs": [
    {
     "data": {
      "text/plain": [
       "BTC-USD    234963\n",
       "ETH-USD    205784\n",
       "LTC-USD    113988\n",
       "Name: product_id, dtype: int64"
      ]
     },
     "execution_count": 54,
     "metadata": {},
     "output_type": "execute_result"
    }
   ],
   "source": [
    "gdax_price.product_id.value_counts()"
   ]
  },
  {
   "cell_type": "code",
   "execution_count": null,
   "metadata": {
    "collapsed": true
   },
   "outputs": [],
   "source": []
  }
 ],
 "metadata": {
  "kernelspec": {
   "display_name": "Django Shell-Plus",
   "language": "python",
   "name": "django_extensions"
  },
  "language_info": {
   "codemirror_mode": {
    "name": "ipython",
    "version": 2
   },
   "file_extension": ".py",
   "mimetype": "text/x-python",
   "name": "python",
   "nbconvert_exporter": "python",
   "pygments_lexer": "ipython2",
   "version": "2.7.10"
  }
 },
 "nbformat": 4,
 "nbformat_minor": 2
}
