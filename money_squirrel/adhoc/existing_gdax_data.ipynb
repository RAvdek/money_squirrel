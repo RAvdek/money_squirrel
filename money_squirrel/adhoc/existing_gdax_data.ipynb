{
 "cells": [
  {
   "cell_type": "code",
   "execution_count": 28,
   "metadata": {
    "collapsed": false,
    "deletable": true,
    "editable": true
   },
   "outputs": [
    {
     "name": "stderr",
     "output_type": "stream",
     "text": [
      "2017-06-26 05:53:15,738|money_squirrel.bin.utils|INFO|Loading JSON from /Users/ravdek/code/money_squirrel/money_squirrel/config/coins.json\n"
     ]
    }
   ],
   "source": [
    "import datetime as dt\n",
    "from pytz import timezone\n",
    "from matplotlib import pyplot as plt\n",
    "import pandas as pd\n",
    "from IPython.display import HTML\n",
    "from money_squirrel.bin import utils\n",
    "\n",
    "%matplotlib inline\n",
    "plt.rcParams['figure.figsize'] = (12, 7)\n",
    "\n",
    "COINS = utils.load_config(\"coins\")\n",
    "\n",
    "def display_all(df):\n",
    "    return HTML(df.to_html())"
   ]
  },
  {
   "cell_type": "code",
   "execution_count": 32,
   "metadata": {
    "collapsed": false,
    "deletable": true,
    "editable": true
   },
   "outputs": [
    {
     "name": "stderr",
     "output_type": "stream",
     "text": [
      "2017-06-26 16:25:09,205|money_squirrel.bin.utils|INFO|Loading JSON from /Users/ravdek/code/money_squirrel/money_squirrel/config/postgres.json\n",
      "2017-06-26 16:25:09,206|money_squirrel.bin.utils|INFO|Connecting to postgres DB @ localhost\n",
      "2017-06-26 16:25:09,210|money_squirrel.bin.utils|INFO|Executing query:\n",
      "\n",
      "select * from gdax_api_quote\n",
      "\n"
     ]
    }
   ],
   "source": [
    "gdax_price = utils.query_pg(\"select * from gdax_api_quote\")"
   ]
  },
  {
   "cell_type": "code",
   "execution_count": 33,
   "metadata": {
    "collapsed": false,
    "deletable": true,
    "editable": true
   },
   "outputs": [
    {
     "data": {
      "text/html": [
       "<div>\n",
       "<table border=\"1\" class=\"dataframe\">\n",
       "  <thead>\n",
       "    <tr style=\"text-align: right;\">\n",
       "      <th></th>\n",
       "      <th>id</th>\n",
       "      <th>product_id</th>\n",
       "      <th>granularity</th>\n",
       "      <th>dt</th>\n",
       "      <th>low</th>\n",
       "      <th>high</th>\n",
       "      <th>open</th>\n",
       "      <th>close</th>\n",
       "      <th>volume</th>\n",
       "    </tr>\n",
       "  </thead>\n",
       "  <tbody>\n",
       "    <tr>\n",
       "      <th>0</th>\n",
       "      <td>1</td>\n",
       "      <td>BTC-USD</td>\n",
       "      <td>20</td>\n",
       "      <td>2017-06-25 23:39:20-07:00</td>\n",
       "      <td>2489.36</td>\n",
       "      <td>2489.71</td>\n",
       "      <td>2489.47</td>\n",
       "      <td>2489.36</td>\n",
       "      <td>4.232061</td>\n",
       "    </tr>\n",
       "    <tr>\n",
       "      <th>1</th>\n",
       "      <td>2</td>\n",
       "      <td>BTC-USD</td>\n",
       "      <td>20</td>\n",
       "      <td>2017-06-25 23:38:40-07:00</td>\n",
       "      <td>2488.17</td>\n",
       "      <td>2489.96</td>\n",
       "      <td>2488.17</td>\n",
       "      <td>2489.96</td>\n",
       "      <td>0.102200</td>\n",
       "    </tr>\n",
       "    <tr>\n",
       "      <th>2</th>\n",
       "      <td>3</td>\n",
       "      <td>BTC-USD</td>\n",
       "      <td>20</td>\n",
       "      <td>2017-06-25 23:38:20-07:00</td>\n",
       "      <td>2486.56</td>\n",
       "      <td>2489.96</td>\n",
       "      <td>2487.47</td>\n",
       "      <td>2489.96</td>\n",
       "      <td>2.362538</td>\n",
       "    </tr>\n",
       "    <tr>\n",
       "      <th>3</th>\n",
       "      <td>4</td>\n",
       "      <td>BTC-USD</td>\n",
       "      <td>20</td>\n",
       "      <td>2017-06-25 23:38:00-07:00</td>\n",
       "      <td>2486.24</td>\n",
       "      <td>2489.97</td>\n",
       "      <td>2486.24</td>\n",
       "      <td>2489.97</td>\n",
       "      <td>4.472527</td>\n",
       "    </tr>\n",
       "    <tr>\n",
       "      <th>4</th>\n",
       "      <td>5</td>\n",
       "      <td>BTC-USD</td>\n",
       "      <td>20</td>\n",
       "      <td>2017-06-25 23:37:40-07:00</td>\n",
       "      <td>2486.11</td>\n",
       "      <td>2487.67</td>\n",
       "      <td>2486.11</td>\n",
       "      <td>2486.16</td>\n",
       "      <td>2.713689</td>\n",
       "    </tr>\n",
       "  </tbody>\n",
       "</table>\n",
       "</div>"
      ],
      "text/plain": [
       "   id product_id  granularity                         dt      low     high  \\\n",
       "0   1    BTC-USD           20  2017-06-25 23:39:20-07:00  2489.36  2489.71   \n",
       "1   2    BTC-USD           20  2017-06-25 23:38:40-07:00  2488.17  2489.96   \n",
       "2   3    BTC-USD           20  2017-06-25 23:38:20-07:00  2486.56  2489.96   \n",
       "3   4    BTC-USD           20  2017-06-25 23:38:00-07:00  2486.24  2489.97   \n",
       "4   5    BTC-USD           20  2017-06-25 23:37:40-07:00  2486.11  2487.67   \n",
       "\n",
       "      open    close    volume  \n",
       "0  2489.47  2489.36  4.232061  \n",
       "1  2488.17  2489.96  0.102200  \n",
       "2  2487.47  2489.96  2.362538  \n",
       "3  2486.24  2489.97  4.472527  \n",
       "4  2486.11  2486.16  2.713689  "
      ]
     },
     "execution_count": 33,
     "metadata": {},
     "output_type": "execute_result"
    }
   ],
   "source": [
    "gdax_price.head()"
   ]
  },
  {
   "cell_type": "code",
   "execution_count": 34,
   "metadata": {
    "collapsed": false,
    "deletable": true,
    "editable": true
   },
   "outputs": [
    {
     "data": {
      "text/plain": [
       "60    271247\n",
       "20        43\n",
       "Name: granularity, dtype: int64"
      ]
     },
     "execution_count": 34,
     "metadata": {},
     "output_type": "execute_result"
    }
   ],
   "source": [
    "gdax_price['granularity'].value_counts()"
   ]
  },
  {
   "cell_type": "code",
   "execution_count": 35,
   "metadata": {
    "collapsed": false
   },
   "outputs": [
    {
     "data": {
      "text/plain": [
       "pandas.tslib.Timestamp"
      ]
     },
     "execution_count": 35,
     "metadata": {},
     "output_type": "execute_result"
    }
   ],
   "source": [
    "gdax_price.loc[0, 'dt'].__class__"
   ]
  },
  {
   "cell_type": "code",
   "execution_count": 36,
   "metadata": {
    "collapsed": false
   },
   "outputs": [
    {
     "data": {
      "text/plain": [
       "<matplotlib.axes._subplots.AxesSubplot at 0x112b44d50>"
      ]
     },
     "execution_count": 36,
     "metadata": {},
     "output_type": "execute_result"
    },
    {
     "data": {
      "image/png": "[encoded data removed]",
      "text/plain": [
       "<matplotlib.figure.Figure at 0x162f2ee10>"
      ]
     },
     "metadata": {},
     "output_type": "display_data"
    }
   ],
   "source": [
    "gdax_price.loc[gdax_price['granularity']==60, 'dt'].value_counts().plot()"
   ]
  },
  {
   "cell_type": "code",
   "execution_count": 37,
   "metadata": {
    "collapsed": false
   },
   "outputs": [
    {
     "data": {
      "text/plain": [
       "datetime.datetime(2017, 4, 11, 9, 39, tzinfo=<UTC>)"
      ]
     },
     "execution_count": 37,
     "metadata": {},
     "output_type": "execute_result"
    }
   ],
   "source": [
    "gdax_price.loc[gdax_price['granularity']==60, 'dt'].max().replace(tzinfo=timezone('UTC'))"
   ]
  },
  {
   "cell_type": "code",
   "execution_count": 20,
   "metadata": {
    "collapsed": false
   },
   "outputs": [
    {
     "data": {
      "text/plain": [
       "False    1680354\n",
       "Name: dt, dtype: int64"
      ]
     },
     "execution_count": 20,
     "metadata": {},
     "output_type": "execute_result"
    }
   ],
   "source": [
    "gdax_price.dt.isnull().value_counts()"
   ]
  },
  {
   "cell_type": "code",
   "execution_count": 38,
   "metadata": {
    "collapsed": true
   },
   "outputs": [],
   "source": [
    "import requests"
   ]
  },
  {
   "cell_type": "code",
   "execution_count": 40,
   "metadata": {
    "collapsed": true
   },
   "outputs": [],
   "source": [
    "params = {'start': '2017-04-11T16:40:00', 'end': '2017-04-11T16:40:00', 'granularity': 60}\n",
    "product_id = \"BTC-USD\"\n",
    "url = \"https://api.gdax.com\"\n",
    "r = requests.get(url + '/products/{}/candles'\n",
    "                 .format(product_id), params=params)"
   ]
  },
  {
   "cell_type": "code",
   "execution_count": 42,
   "metadata": {
    "collapsed": false
   },
   "outputs": [
    {
     "data": {
      "text/plain": [
       "[[1491940740, 1222.54, 1222.54, 1222.54, 1222.54, 1.7439713399999999],\n",
       " [1491940680, 1222.18, 1222.6, 1222.18, 1222.6, 6.8085213300000005],\n",
       " [1491940620, 1222, 1222.18, 1222, 1222.18, 3.0252489699999994],\n",
       " [1491940560, 1221.94, 1222, 1221.94, 1222, 1.50503718],\n",
       " [1491940500, 1221.87, 1221.94, 1221.87, 1221.92, 4.54007768],\n",
       " [1491940440, 1221.79, 1221.82, 1221.82, 1221.79, 3.0156],\n",
       " [1491940380, 1221.81, 1221.82, 1221.82, 1221.81, 1.4062798300000001],\n",
       " [1491940320, 1221.17, 1221.84, 1221.84, 1221.17, 4.4135],\n",
       " [1491940260, 1221.51, 1221.76, 1221.52, 1221.76, 2.51047068],\n",
       " [1491940200, 1221.51, 1221.52, 1221.51, 1221.52, 3.7954000000000003],\n",
       " [1491940140, 1221.51, 1221.52, 1221.51, 1221.51, 1.9060717],\n",
       " [1491940080, 1221.51, 1221.52, 1221.52, 1221.51, 2.7252554499999997],\n",
       " [1491940020, 1221.51, 1221.52, 1221.51, 1221.52, 0.4005],\n",
       " [1491939960, 1221.51, 1221.52, 1221.51, 1221.52, 1.5017],\n",
       " [1491939900, 1221.5, 1221.52, 1221.5, 1221.52, 1.7600156700000003],\n",
       " [1491939840, 1221.43, 1221.48, 1221.43, 1221.48, 0.53492532],\n",
       " [1491939780, 1221.17, 1221.51, 1221.47, 1221.51, 2.88699692],\n",
       " [1491939720, 1221.17, 1221.48, 1221.46, 1221.19, 6.31756748],\n",
       " [1491939660, 1221.51, 1221.52, 1221.52, 1221.52, 1.13582047],\n",
       " [1491939600, 1221.18, 1221.56, 1221.52, 1221.52, 8.16554287],\n",
       " [1491939540, 1221.5, 1221.94, 1221.94, 1221.5, 5.633292109999999],\n",
       " [1491939480, 1221.79, 1221.95, 1221.93, 1221.95, 9.0091551],\n",
       " [1491939420, 1221.93, 1221.95, 1221.95, 1221.93, 2.89505005],\n",
       " [1491939360, 1221.92, 1221.93, 1221.93, 1221.93, 5.070350679999999],\n",
       " [1491939300, 1221.94, 1221.94, 1221.94, 1221.94, 1.97599762],\n",
       " [1491939240, 1221.92, 1221.94, 1221.92, 1221.94, 1.5741],\n",
       " [1491939180, 1221.87, 1221.94, 1221.87, 1221.94, 9.40889962],\n",
       " [1491939120, 1221.69, 1221.96, 1221.92, 1221.69, 10.1967],\n",
       " [1491939060, 1221.81, 1221.95, 1221.93, 1221.81, 1.6372999999999998],\n",
       " [1491939000, 1221.69, 1221.93, 1221.93, 1221.93, 2.45463778],\n",
       " [1491938940, 1221.58, 1221.95, 1221.93, 1221.58, 4.228145049999999],\n",
       " [1491938880, 1221.59, 1221.93, 1221.89, 1221.93, 3.5453573300000008],\n",
       " [1491938820, 1221.83, 1221.9, 1221.83, 1221.89, 2.5922755499999997],\n",
       " [1491938760, 1221.56, 1221.94, 1221.93, 1221.56, 4.5979129],\n",
       " [1491938700, 1221.7, 1222.84, 1222.82, 1222.31, 6.149246580000002],\n",
       " [1491938640, 1222, 1222.92, 1222.84, 1222, 22.0370945],\n",
       " [1491938580, 1221.76, 1222.88, 1221.76, 1222.86, 16.320763659999997],\n",
       " [1491938520, 1221.76, 1221.77, 1221.76, 1221.76, 10.092987380000002],\n",
       " [1491938460, 1221.59, 1221.77, 1221.6, 1221.77, 1.94938463],\n",
       " [1491938400, 1221.59, 1221.6, 1221.6, 1221.6, 10.31633618],\n",
       " [1491938340, 1221.59, 1221.6, 1221.59, 1221.6, 1.4506666500000003],\n",
       " [1491938280, 1221.5, 1222.11, 1222.11, 1221.59, 9.865890059999998],\n",
       " [1491938220, 1222.12, 1222.43, 1222.43, 1222.12, 4.230941999999999],\n",
       " [1491938160, 1222.46, 1225.06, 1225.06, 1222.51, 18.5884798],\n",
       " [1491938100, 1225.05, 1225.4, 1225.15, 1225.05, 5.124721549999999],\n",
       " [1491938040, 1225, 1225.5, 1225.44, 1225.47, 10.650554199999997],\n",
       " [1491937980, 1225.01, 1225.5, 1225.5, 1225.01, 3.504306379999999],\n",
       " [1491937920, 1225.5, 1225.98, 1225.98, 1225.5, 2.61832331],\n",
       " [1491937860, 1225.96, 1226.6, 1226.6, 1225.96, 3.98306063],\n",
       " [1491937800, 1226.6, 1226.61, 1226.61, 1226.61, 9.88192137],\n",
       " [1491937740, 1226.6, 1226.61, 1226.6, 1226.61, 1.2512838099999999],\n",
       " [1491937680, 1226.61, 1226.61, 1226.61, 1226.61, 3.9976],\n",
       " [1491937620, 1226.6, 1226.61, 1226.61, 1226.61, 1.4798432],\n",
       " [1491937560, 1226.6, 1226.61, 1226.6, 1226.61, 0.77670164],\n",
       " [1491937500, 1226.59, 1226.63, 1226.6, 1226.6, 5.8135005],\n",
       " [1491937440, 1226.51, 1227.1, 1227.1, 1226.56, 0.318],\n",
       " [1491937380, 1226.61, 1227.12, 1227.12, 1227.11, 0.88064947],\n",
       " [1491937320, 1226.5, 1227.21, 1226.72, 1227.01, 2.1997641],\n",
       " [1491937260, 1226.77, 1227.21, 1227.17, 1226.77, 1.25523184],\n",
       " [1491937200, 1227.16, 1227.21, 1227.19, 1227.16, 3.8994651],\n",
       " [1491937140, 1227.12, 1227.21, 1227.12, 1227.2, 2.28142635],\n",
       " [1491937080, 1226.62, 1227.33, 1227.32, 1226.62, 1.1278843200000002],\n",
       " [1491937020, 1226.54, 1227.46, 1227.44, 1226.54, 6.341506439999999],\n",
       " [1491936960, 1226.55, 1227.4, 1226.6, 1227.36, 1.39263761],\n",
       " [1491936900, 1226.54, 1227.6, 1227.6, 1226.54, 6.046313489999999],\n",
       " [1491936840, 1227.57, 1227.6, 1227.57, 1227.6, 3.80792753],\n",
       " [1491936780, 1227.16, 1227.59, 1227.57, 1227.16, 1.663],\n",
       " [1491936720, 1227.45, 1227.47, 1227.45, 1227.46, 0.2687],\n",
       " [1491936660, 1227.03, 1227.84, 1227.75, 1227.03, 2.9454695099999997],\n",
       " [1491936600, 1227.26, 1227.74, 1227.27, 1227.73, 6.344382939999999],\n",
       " [1491936540, 1226.63, 1227.26, 1227.19, 1227.26, 2.7542999999999997],\n",
       " [1491936480, 1227.17, 1228.13, 1228.13, 1227.17, 3.7822],\n",
       " [1491936420, 1227.1, 1228.11, 1228.11, 1227.1, 12.265299999999996],\n",
       " [1491936360, 1228.44, 1228.49, 1228.44, 1228.49, 3.6248],\n",
       " [1491936300, 1228.44, 1228.45, 1228.44, 1228.44, 1.87281154],\n",
       " [1491936240, 1228.38, 1228.45, 1228.38, 1228.45, 2.5188],\n",
       " [1491936180, 1228.15, 1228.36, 1228.15, 1228.36, 1.2501448000000002],\n",
       " [1491936120, 1227.36, 1228.1, 1228.1, 1227.36, 1.4289],\n",
       " [1491936060, 1228.46, 1228.89, 1228.46, 1228.89, 4.5711],\n",
       " [1491936000, 1228.2, 1228.96, 1228.34, 1228.2, 3.48852856],\n",
       " [1491935940, 1228.45, 1228.99, 1228.45, 1228.94, 3.4877999999999996],\n",
       " [1491935880, 1228.67, 1228.68, 1228.67, 1228.68, 3.603167],\n",
       " [1491935820, 1228.32, 1228.68, 1228.33, 1228.68, 7.890300000000001],\n",
       " [1491935760, 1228.31, 1228.33, 1228.33, 1228.31, 2.566],\n",
       " [1491935700, 1228.32, 1228.67, 1228.67, 1228.67, 10.9305338],\n",
       " [1491935640, 1228.15, 1228.69, 1228.31, 1228.15, 4.98412955],\n",
       " [1491935580, 1228.23, 1228.23, 1228.23, 1228.23, 2.5562],\n",
       " [1491935520, 1228.23, 1228.23, 1228.23, 1228.23, 1.65829361],\n",
       " [1491935460, 1228, 1228.25, 1228, 1228.23, 3.3282999999999996],\n",
       " [1491935400, 1227.11, 1227.99, 1227.8, 1227.11, 0.36363274],\n",
       " [1491935340, 1226.82, 1227.78, 1226.83, 1227.78, 1.7573048700000005],\n",
       " [1491935280, 1226.12, 1226.97, 1226.81, 1226.97, 3.91566323],\n",
       " [1491935220, 1225.96, 1226.91, 1226.45, 1226.82, 2.3152792900000003],\n",
       " [1491935160, 1226.3, 1227, 1227, 1226.86, 3.648299999999999],\n",
       " [1491935100, 1226.88, 1227.02, 1226.95, 1226.88, 1.6647],\n",
       " [1491935040, 1226.33, 1227.7, 1227.7, 1227.03, 11.4549],\n",
       " [1491934980, 1227.24, 1227.82, 1227.27, 1227.82, 1.4708],\n",
       " [1491934920, 1227.14, 1228.26, 1228.18, 1228.16, 4.51612298],\n",
       " [1491934860, 1227.98, 1228.44, 1227.98, 1228.4, 11.916410319999999],\n",
       " [1491934800, 1227.82, 1228.03, 1227.82, 1228.01, 8.538854109999999],\n",
       " [1491934740, 1227.17, 1227.86, 1227.71, 1227.86, 4.92149605],\n",
       " [1491934680, 1227.13, 1228.59, 1228.57, 1227.13, 14.401233269999999],\n",
       " [1491934620, 1227.92, 1228.99, 1228.8, 1227.92, 15.575189409999995],\n",
       " [1491934560, 1228.8, 1228.8, 1228.8, 1228.8, 2.8921],\n",
       " [1491934500, 1228.66, 1228.96, 1228.96, 1228.81, 2.1771000000000003],\n",
       " [1491934440, 1228.82, 1228.98, 1228.97, 1228.98, 2.32126615],\n",
       " [1491934380, 1228.87, 1228.98, 1228.94, 1228.88, 1.1348324499999998],\n",
       " [1491934320, 1228.85, 1228.95, 1228.9, 1228.95, 1.1371],\n",
       " [1491934260, 1228.8, 1228.95, 1228.8, 1228.94, 2.28100842],\n",
       " [1491934200, 1228.03, 1228.76, 1228.76, 1228.76, 1.13211013],\n",
       " [1491934140, 1227.93, 1228.81, 1228.79, 1228.81, 2.732],\n",
       " [1491934080, 1228.15, 1228.99, 1228.99, 1228.15, 5.4675],\n",
       " [1491934020, 1228.88, 1228.98, 1228.88, 1228.98, 18.103084600000003],\n",
       " [1491933960, 1228.88, 1228.91, 1228.91, 1228.89, 4.05863698],\n",
       " [1491933900, 1228.91, 1228.92, 1228.91, 1228.91, 2.4205557799999995],\n",
       " [1491933840, 1228.87, 1228.92, 1228.92, 1228.92, 3.682183659999999],\n",
       " [1491933780, 1228.87, 1229.98, 1229.98, 1228.92, 6.88535715],\n",
       " [1491933720, 1229.97, 1229.98, 1229.98, 1229.98, 5.99313188],\n",
       " [1491933660, 1229.98, 1229.98, 1229.98, 1229.98, 5.90865479],\n",
       " [1491933600, 1229.78, 1230.5, 1230.5, 1229.97, 9.943236489999999],\n",
       " [1491933540, 1230.49, 1230.67, 1230.67, 1230.51, 0.6688000000000001],\n",
       " [1491933480, 1230.32, 1231, 1230.32, 1230.44, 11.393199999999998],\n",
       " [1491933420, 1230, 1230.66, 1230.43, 1230, 3.667815649999999],\n",
       " [1491933360, 1230.28, 1230.42, 1230.28, 1230.42, 3.1611],\n",
       " [1491933300, 1230.17, 1230.28, 1230.19, 1230.28, 2.6646934900000003],\n",
       " [1491933240, 1229.79, 1230, 1229.79, 1230, 12.50909955],\n",
       " [1491933180, 1229.77, 1229.79, 1229.77, 1229.79, 2.2365570200000002],\n",
       " [1491933120, 1229.68, 1229.8, 1229.68, 1229.8, 4.751581959999999],\n",
       " [1491933060, 1229.34, 1229.68, 1229.49, 1229.68, 3.5986000099999997],\n",
       " [1491933000, 1229.1, 1229.52, 1229.1, 1229.52, 2.3684292],\n",
       " [1491932940, 1228.77, 1229.09, 1228.77, 1229.09, 1.25680639],\n",
       " [1491932880, 1228.61, 1228.82, 1228.76, 1228.78, 2.87304872],\n",
       " [1491932820, 1227.23, 1229.03, 1227.23, 1227.63, 10.008999999999999],\n",
       " [1491932760, 1227.16, 1227.23, 1227.16, 1227.23, 6.849983879999999],\n",
       " [1491932700, 1227.14, 1227.22, 1227.15, 1227.16, 5.893507950000001],\n",
       " [1491932640, 1227.14, 1227.15, 1227.14, 1227.15, 5.57746108],\n",
       " [1491932580, 1227.14, 1227.15, 1227.14, 1227.15, 2.1829],\n",
       " [1491932520, 1227.14, 1227.15, 1227.14, 1227.15, 2.6296],\n",
       " [1491932460, 1227.12, 1227.14, 1227.14, 1227.13, 1.6082999999999998],\n",
       " [1491932400, 1226.91, 1227.12, 1226.91, 1227.12, 1.5352],\n",
       " [1491932340, 1226.71, 1227, 1226.71, 1226.91, 7.635900000000001],\n",
       " [1491932280, 1226.56, 1227.05, 1227.05, 1226.64, 3.0384999999999995],\n",
       " [1491932220, 1227.05, 1227.31, 1227.31, 1227.05, 7.656438489999999],\n",
       " [1491932160, 1227.31, 1227.31, 1227.31, 1227.31, 1.1792],\n",
       " [1491932100, 1227.3, 1227.77, 1227.37, 1227.3, 4.6155],\n",
       " [1491932040, 1227.22, 1227.35, 1227.22, 1227.33, 3.8648999999999996],\n",
       " [1491931980, 1227.21, 1227.22, 1227.22, 1227.21, 1.5587],\n",
       " [1491931920, 1227.36, 1227.37, 1227.37, 1227.37, 2.3802],\n",
       " [1491931860, 1227.04, 1227.28, 1227.26, 1227.26, 3.10667401],\n",
       " [1491931800, 1226.66, 1227.88, 1226.72, 1226.66, 8.13998717],\n",
       " [1491931740, 1226.51, 1226.9, 1226.9, 1226.87, 4.15616158],\n",
       " [1491931680, 1226.9, 1226.9, 1226.9, 1226.9, 0.65551963],\n",
       " [1491931620, 1226.89, 1226.9, 1226.9, 1226.9, 3.128589],\n",
       " [1491931560, 1226.8, 1227.3, 1227.3, 1226.81, 1.9603193200000002],\n",
       " [1491931500, 1227.13, 1229, 1229, 1227.3, 6.31474556],\n",
       " [1491931440, 1229, 1229.37, 1229.37, 1229, 9.734942139999998],\n",
       " [1491931380, 1229.41, 1229.44, 1229.44, 1229.41, 1.8538000000000001],\n",
       " [1491931320, 1229.31, 1229.49, 1229.31, 1229.43, 1.33623834],\n",
       " [1491931260, 1229.21, 1229.31, 1229.21, 1229.31, 0.78053648],\n",
       " [1491931200, 1229, 1229.08, 1229.08, 1229.06, 3.3590999999999998],\n",
       " [1491931140, 1229, 1229.49, 1229.48, 1229, 2.8962000000000003],\n",
       " [1491931080, 1229.01, 1229.51, 1229.12, 1229.51, 5.3099],\n",
       " [1491931020, 1226.5, 1229.53, 1228.47, 1229.53, 16.045353920000004],\n",
       " [1491930960, 1227.89, 1228.46, 1227.89, 1228.46, 1.5058223500000003],\n",
       " [1491930900, 1227.79, 1227.88, 1227.84, 1227.88, 2.41974631],\n",
       " [1491930840, 1226.16, 1227.87, 1226.16, 1226.57, 11.527798500000005],\n",
       " [1491930780, 1225.62, 1226.15, 1225.63, 1226.02, 9.77014612],\n",
       " [1491930720, 1225.54, 1225.63, 1225.57, 1225.63, 8.376063050000003],\n",
       " [1491930660, 1225, 1226.06, 1226.06, 1225.46, 23.056159219999998],\n",
       " [1491930600, 1226, 1229.03, 1229.03, 1226.92, 19.48469316],\n",
       " [1491930540, 1228.99, 1230.24, 1230.24, 1228.99, 6.017600000000001],\n",
       " [1491930480, 1230.73, 1230.75, 1230.75, 1230.73, 1.5844],\n",
       " [1491930420, 1230.74, 1230.75, 1230.75, 1230.74, 1.2893423400000001],\n",
       " [1491930360, 1230.75, 1230.75, 1230.75, 1230.75, 2.06023268],\n",
       " [1491930300, 1230.74, 1230.75, 1230.75, 1230.75, 1.7801806099999997],\n",
       " [1491930240, 1230.77, 1230.85, 1230.85, 1230.77, 4.29818911],\n",
       " [1491930180, 1230.31, 1230.87, 1230.32, 1230.82, 7.01483509],\n",
       " [1491930120, 1229.78, 1230.87, 1229.78, 1230.87, 7.00677092],\n",
       " [1491930060, 1229.7, 1230.72, 1230.72, 1229.73, 13.68036863],\n",
       " [1491930000, 1230.67, 1232, 1232, 1230.67, 11.880642110000002],\n",
       " [1491929940, 1230.22, 1233.53, 1233.53, 1232, 33.11487128000002],\n",
       " [1491929880, 1232.9, 1234, 1234, 1233.53, 13.826810559999998],\n",
       " [1491929820, 1232.97, 1233.93, 1232.98, 1233.93, 12.83301103],\n",
       " [1491929760, 1230.65, 1232.98, 1230.65, 1232.98, 6.432518149999999],\n",
       " [1491929700, 1230, 1230.64, 1230, 1230.64, 7.25516618],\n",
       " [1491929640, 1229.99, 1230, 1230, 1230, 5.31346432],\n",
       " [1491929580, 1229.99, 1230, 1230, 1230, 2.43807849],\n",
       " [1491929520, 1229.95, 1230, 1229.95, 1230, 7.4758],\n",
       " [1491929460, 1229.95, 1229.95, 1229.95, 1229.95, 4.790283659999999],\n",
       " [1491929400, 1229, 1229.95, 1229, 1229.94, 6.760567109999998],\n",
       " [1491929340, 1228.99, 1229, 1229, 1229, 3.16597859],\n",
       " [1491929280, 1228.5, 1229, 1228.5, 1229, 11.475944470000002],\n",
       " [1491929220, 1225, 1228.5, 1225, 1228.29, 21.651430870000016],\n",
       " [1491929160, 1224.99, 1225, 1224.99, 1225, 14.525823599999999],\n",
       " [1491929100, 1224.98, 1224.99, 1224.99, 1224.99, 5.84012899],\n",
       " [1491929040, 1224.99, 1224.99, 1224.99, 1224.99, 2.54688857],\n",
       " [1491928980, 1224.99, 1224.99, 1224.99, 1224.99, 2.54866387],\n",
       " [1491928920, 1224.99, 1224.99, 1224.99, 1224.99, 3.58881799],\n",
       " [1491928860, 1224.99, 1224.99, 1224.99, 1224.99, 3.90776854],\n",
       " [1491928800, 1224.96, 1224.99, 1224.96, 1224.99, 8.22164474]]"
      ]
     },
     "execution_count": 42,
     "metadata": {},
     "output_type": "execute_result"
    }
   ],
   "source": [
    "r.json()"
   ]
  },
  {
   "cell_type": "code",
   "execution_count": null,
   "metadata": {
    "collapsed": true
   },
   "outputs": [],
   "source": []
  }
 ],
 "metadata": {
  "kernelspec": {
   "display_name": "Django Shell-Plus",
   "language": "python",
   "name": "django_extensions"
  },
  "language_info": {
   "codemirror_mode": {
    "name": "ipython",
    "version": 2
   },
   "file_extension": ".py",
   "mimetype": "text/x-python",
   "name": "python",
   "nbconvert_exporter": "python",
   "pygments_lexer": "ipython2",
   "version": "2.7.10"
  }
 },
 "nbformat": 4,
 "nbformat_minor": 2
}
