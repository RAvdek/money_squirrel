{
 "cells": [
  {
   "cell_type": "code",
   "execution_count": 1,
   "metadata": {
    "collapsed": false,
    "deletable": true,
    "editable": true
   },
   "outputs": [
    {
     "name": "stderr",
     "output_type": "stream",
     "text": [
      "2017-07-08 06:08:52,581|money_squirrel.bin.utils|INFO|Instantiated logger w/ name=money_squirrel.bin.utils\n",
      "2017-07-08 06:08:52,583|money_squirrel.bin.utils|INFO|Loading JSON from /Users/ravdek/code/money_squirrel/money_squirrel/config/coins.json\n"
     ]
    }
   ],
   "source": [
    "import datetime as dt\n",
    "from pytz import timezone\n",
    "from matplotlib import pyplot as plt\n",
    "import pandas as pd\n",
    "from IPython.display import HTML\n",
    "from money_squirrel.bin import utils\n",
    "\n",
    "%matplotlib inline\n",
    "plt.rcParams['figure.figsize'] = (12, 7)\n",
    "\n",
    "COINS = utils.load_config(\"coins\")\n",
    "\n",
    "def display_all(df):\n",
    "    return HTML(df.to_html())"
   ]
  },
  {
   "cell_type": "code",
   "execution_count": 2,
   "metadata": {
    "collapsed": false,
    "deletable": true,
    "editable": true
   },
   "outputs": [
    {
     "name": "stderr",
     "output_type": "stream",
     "text": [
      "2017-07-08 06:08:53,340|money_squirrel.bin.utils|INFO|Loading JSON from /Users/ravdek/code/money_squirrel/money_squirrel/config/postgres.json\n",
      "2017-07-08 06:08:53,341|money_squirrel.bin.utils|INFO|Connecting to postgres DB @ localhost\n",
      "2017-07-08 06:08:53,346|money_squirrel.bin.utils|INFO|Executing query:\n",
      "\n",
      "select * from gdax_api_quote\n",
      "\n"
     ]
    }
   ],
   "source": [
    "gdax_price = utils.query_pg(\"select * from gdax_api_quote\")"
   ]
  },
  {
   "cell_type": "code",
   "execution_count": 3,
   "metadata": {
    "collapsed": false,
    "deletable": true,
    "editable": true
   },
   "outputs": [
    {
     "data": {
      "text/html": [
       "<div>\n",
       "<style>\n",
       "    .dataframe thead tr:only-child th {\n",
       "        text-align: right;\n",
       "    }\n",
       "\n",
       "    .dataframe thead th {\n",
       "        text-align: left;\n",
       "    }\n",
       "\n",
       "    .dataframe tbody tr th {\n",
       "        vertical-align: top;\n",
       "    }\n",
       "</style>\n",
       "<table border=\"1\" class=\"dataframe\">\n",
       "  <thead>\n",
       "    <tr style=\"text-align: right;\">\n",
       "      <th></th>\n",
       "      <th>id</th>\n",
       "      <th>product_id</th>\n",
       "      <th>granularity</th>\n",
       "      <th>dt</th>\n",
       "      <th>low</th>\n",
       "      <th>high</th>\n",
       "      <th>open</th>\n",
       "      <th>close</th>\n",
       "      <th>volume</th>\n",
       "    </tr>\n",
       "  </thead>\n",
       "  <tbody>\n",
       "    <tr>\n",
       "      <th>0</th>\n",
       "      <td>1</td>\n",
       "      <td>BTC-USD</td>\n",
       "      <td>20</td>\n",
       "      <td>2017-06-25 23:39:20-07:00</td>\n",
       "      <td>2489.36</td>\n",
       "      <td>2489.71</td>\n",
       "      <td>2489.47</td>\n",
       "      <td>2489.36</td>\n",
       "      <td>4.232061</td>\n",
       "    </tr>\n",
       "    <tr>\n",
       "      <th>1</th>\n",
       "      <td>2</td>\n",
       "      <td>BTC-USD</td>\n",
       "      <td>20</td>\n",
       "      <td>2017-06-25 23:38:40-07:00</td>\n",
       "      <td>2488.17</td>\n",
       "      <td>2489.96</td>\n",
       "      <td>2488.17</td>\n",
       "      <td>2489.96</td>\n",
       "      <td>0.102200</td>\n",
       "    </tr>\n",
       "    <tr>\n",
       "      <th>2</th>\n",
       "      <td>3</td>\n",
       "      <td>BTC-USD</td>\n",
       "      <td>20</td>\n",
       "      <td>2017-06-25 23:38:20-07:00</td>\n",
       "      <td>2486.56</td>\n",
       "      <td>2489.96</td>\n",
       "      <td>2487.47</td>\n",
       "      <td>2489.96</td>\n",
       "      <td>2.362538</td>\n",
       "    </tr>\n",
       "    <tr>\n",
       "      <th>3</th>\n",
       "      <td>4</td>\n",
       "      <td>BTC-USD</td>\n",
       "      <td>20</td>\n",
       "      <td>2017-06-25 23:38:00-07:00</td>\n",
       "      <td>2486.24</td>\n",
       "      <td>2489.97</td>\n",
       "      <td>2486.24</td>\n",
       "      <td>2489.97</td>\n",
       "      <td>4.472527</td>\n",
       "    </tr>\n",
       "    <tr>\n",
       "      <th>4</th>\n",
       "      <td>5</td>\n",
       "      <td>BTC-USD</td>\n",
       "      <td>20</td>\n",
       "      <td>2017-06-25 23:37:40-07:00</td>\n",
       "      <td>2486.11</td>\n",
       "      <td>2487.67</td>\n",
       "      <td>2486.11</td>\n",
       "      <td>2486.16</td>\n",
       "      <td>2.713689</td>\n",
       "    </tr>\n",
       "  </tbody>\n",
       "</table>\n",
       "</div>"
      ],
      "text/plain": [
       "   id product_id  granularity                         dt      low     high  \\\n",
       "0   1    BTC-USD           20  2017-06-25 23:39:20-07:00  2489.36  2489.71   \n",
       "1   2    BTC-USD           20  2017-06-25 23:38:40-07:00  2488.17  2489.96   \n",
       "2   3    BTC-USD           20  2017-06-25 23:38:20-07:00  2486.56  2489.96   \n",
       "3   4    BTC-USD           20  2017-06-25 23:38:00-07:00  2486.24  2489.97   \n",
       "4   5    BTC-USD           20  2017-06-25 23:37:40-07:00  2486.11  2487.67   \n",
       "\n",
       "      open    close    volume  \n",
       "0  2489.47  2489.36  4.232061  \n",
       "1  2488.17  2489.96  0.102200  \n",
       "2  2487.47  2489.96  2.362538  \n",
       "3  2486.24  2489.97  4.472527  \n",
       "4  2486.11  2486.16  2.713689  "
      ]
     },
     "execution_count": 3,
     "metadata": {},
     "output_type": "execute_result"
    }
   ],
   "source": [
    "gdax_price.head()"
   ]
  },
  {
   "cell_type": "code",
   "execution_count": 4,
   "metadata": {
    "collapsed": false,
    "deletable": true,
    "editable": true
   },
   "outputs": [
    {
     "data": {
      "text/plain": [
       "60    759081\n",
       "20        43\n",
       "Name: granularity, dtype: int64"
      ]
     },
     "execution_count": 4,
     "metadata": {},
     "output_type": "execute_result"
    }
   ],
   "source": [
    "gdax_price['granularity'].value_counts()"
   ]
  },
  {
   "cell_type": "code",
   "execution_count": 5,
   "metadata": {
    "collapsed": false,
    "deletable": true,
    "editable": true
   },
   "outputs": [
    {
     "data": {
      "text/plain": [
       "datetime.datetime"
      ]
     },
     "execution_count": 5,
     "metadata": {},
     "output_type": "execute_result"
    }
   ],
   "source": [
    "gdax_price.loc[0, 'dt'].__class__"
   ]
  },
  {
   "cell_type": "code",
   "execution_count": 6,
   "metadata": {
    "collapsed": false,
    "deletable": true,
    "editable": true
   },
   "outputs": [
    {
     "data": {
      "text/plain": [
       "<matplotlib.axes._subplots.AxesSubplot at 0x114523850>"
      ]
     },
     "execution_count": 6,
     "metadata": {},
     "output_type": "execute_result"
    },
    {
     "data": {
      "image/png": "[encoded data removed]",
      "text/plain": [
       "<matplotlib.figure.Figure at 0x1066bd690>"
      ]
     },
     "metadata": {},
     "output_type": "display_data"
    }
   ],
   "source": [
    "gdax_price.loc[gdax_price['granularity']==60, 'dt'].value_counts().plot()"
   ]
  },
  {
   "cell_type": "markdown",
   "metadata": {},
   "source": [
    "# quality\n",
    "\n",
    "What % of the time do we have each product?\n",
    "\n",
    "Can we fill in blanks by combining product info?"
   ]
  },
  {
   "cell_type": "code",
   "execution_count": 16,
   "metadata": {
    "collapsed": false,
    "deletable": true,
    "editable": true
   },
   "outputs": [],
   "source": [
    "close_pivot = gdax_price[\n",
    "    (gdax_price['granularity']==60)\n",
    "    & (gdax_price['dt'] <= utils.get_utc_dt(2017,6,15))\n",
    "].pivot(\n",
    "    index='dt',\n",
    "    columns='product_id',\n",
    "    values='close'\n",
    ")"
   ]
  },
  {
   "cell_type": "code",
   "execution_count": 17,
   "metadata": {
    "collapsed": false
   },
   "outputs": [
    {
     "data": {
      "text/plain": [
       "product_id\n",
       "BTC-USD    0.981031\n",
       "ETH-BTC    0.364634\n",
       "ETH-USD    0.855354\n",
       "LTC-BTC    0.268053\n",
       "LTC-USD    0.460031\n",
       "dtype: float64"
      ]
     },
     "execution_count": 17,
     "metadata": {},
     "output_type": "execute_result"
    }
   ],
   "source": [
    "close_pivot.applymap(pd.notnull).applymap(int).mean()"
   ]
  },
  {
   "cell_type": "code",
   "execution_count": 24,
   "metadata": {
    "collapsed": false
   },
   "outputs": [
    {
     "data": {
      "text/plain": [
       "<matplotlib.axes._subplots.AxesSubplot at 0x10a7fd2d0>"
      ]
     },
     "execution_count": 24,
     "metadata": {},
     "output_type": "execute_result"
    },
    {
     "data": {
      "image/png": "[encoded data removed]",
      "text/plain": [
       "<matplotlib.figure.Figure at 0x10a7ebe10>"
      ]
     },
     "metadata": {},
     "output_type": "display_data"
    }
   ],
   "source": [
    "# checking if prices aggree\n",
    "close_pivot[\n",
    "    (close_pivot['BTC-USD'].notnull())\n",
    "    & (close_pivot['LTC-BTC'].notnull())\n",
    "    & (close_pivot['LTC-USD'].notnull())\n",
    "].assign(\n",
    "    commuting_ltc_usd=lambda df: df['LTC-BTC']*df['BTC-USD']\n",
    ").assign(\n",
    "    pct_diff=lambda df: (df['LTC-USD'] - df['commuting_ltc_usd'])/df['LTC-USD']\n",
    ")['pct_diff'].plot(kind='kde')"
   ]
  },
  {
   "cell_type": "code",
   "execution_count": 23,
   "metadata": {
    "collapsed": false
   },
   "outputs": [
    {
     "data": {
      "text/plain": [
       "<matplotlib.axes._subplots.AxesSubplot at 0x10f9704d0>"
      ]
     },
     "execution_count": 23,
     "metadata": {},
     "output_type": "execute_result"
    },
    {
     "data": {
      "image/png": "[encoded data removed]",
      "text/plain": [
       "<matplotlib.figure.Figure at 0x10e8b7090>"
      ]
     },
     "metadata": {},
     "output_type": "display_data"
    }
   ],
   "source": [
    "# checking if prices aggree\n",
    "close_pivot[\n",
    "    (close_pivot['BTC-USD'].notnull())\n",
    "    & (close_pivot['ETH-BTC'].notnull())\n",
    "    & (close_pivot['ETH-USD'].notnull())\n",
    "].assign(\n",
    "    commuting_eth_usd=lambda df: df['ETH-BTC']*df['BTC-USD']\n",
    ").assign(\n",
    "    pct_diff=lambda df: (df['ETH-USD'] - df['commuting_eth_usd'])/df['ETH-USD']\n",
    ")['pct_diff'].plot(kind='kde')"
   ]
  },
  {
   "cell_type": "code",
   "execution_count": 33,
   "metadata": {
    "collapsed": false
   },
   "outputs": [
    {
     "name": "stdout",
     "output_type": "stream",
     "text": [
      "BTC-USD\n",
      "product_id\n",
      "BTC-USD    1.000000\n",
      "ETH-BTC    0.735468\n",
      "ETH-USD    0.274977\n",
      "LTC-BTC    0.902816\n",
      "LTC-USD    0.824251\n",
      "dtype: float64\n",
      "\n",
      "ETH-BTC\n",
      "product_id\n",
      "BTC-USD    0.021958\n",
      "ETH-BTC    1.000000\n",
      "ETH-USD    0.194948\n",
      "LTC-BTC    0.795500\n",
      "LTC-USD    0.628570\n",
      "dtype: float64\n",
      "\n",
      "ETH-USD\n",
      "product_id\n",
      "BTC-USD    0.036061\n",
      "ETH-BTC    0.856322\n",
      "ETH-USD    1.000000\n",
      "LTC-BTC    0.925972\n",
      "LTC-USD    0.860401\n",
      "dtype: float64\n",
      "\n",
      "LTC-BTC\n",
      "product_id\n",
      "BTC-USD    0.023397\n",
      "ETH-BTC    0.690533\n",
      "ETH-USD    0.182989\n",
      "LTC-BTC    1.000000\n",
      "LTC-USD    0.677398\n",
      "dtype: float64\n",
      "\n",
      "LTC-USD\n",
      "product_id\n",
      "BTC-USD    0.028956\n",
      "ETH-BTC    0.739620\n",
      "ETH-USD    0.230483\n",
      "LTC-BTC    0.918237\n",
      "LTC-USD    1.000000\n",
      "dtype: float64\n",
      "\n"
     ]
    }
   ],
   "source": [
    "# What things are missing together most frequently?\n",
    "for c in close_pivot.columns:\n",
    "    print c\n",
    "    print close_pivot[close_pivot[c].isnull()].isnull().mean()\n",
    "    print"
   ]
  },
  {
   "cell_type": "code",
   "execution_count": 36,
   "metadata": {
    "collapsed": false
   },
   "outputs": [
    {
     "data": {
      "text/plain": [
       "product_id\n",
       "BTC-USD    107442\n",
       "ETH-BTC     50923\n",
       "ETH-USD    104952\n",
       "LTC-BTC     52579\n",
       "LTC-USD     88609\n",
       "dtype: int64"
      ]
     },
     "execution_count": 36,
     "metadata": {},
     "output_type": "execute_result"
    }
   ],
   "source": [
    "close_pivot.loc[close_pivot.index >= utils.get_utc_dt(2017,4,1),:].count()"
   ]
  },
  {
   "cell_type": "code",
   "execution_count": null,
   "metadata": {
    "collapsed": true
   },
   "outputs": [],
   "source": []
  }
 ],
 "metadata": {
  "kernelspec": {
   "display_name": "Django Shell-Plus",
   "language": "python",
   "name": "django_extensions"
  },
  "language_info": {
   "codemirror_mode": {
    "name": "ipython",
    "version": 2
   },
   "file_extension": ".py",
   "mimetype": "text/x-python",
   "name": "python",
   "nbconvert_exporter": "python",
   "pygments_lexer": "ipython2",
   "version": "2.7.10"
  }
 },
 "nbformat": 4,
 "nbformat_minor": 2
}
