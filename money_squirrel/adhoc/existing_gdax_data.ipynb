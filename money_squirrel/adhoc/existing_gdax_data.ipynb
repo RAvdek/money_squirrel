{
 "cells": [
  {
   "cell_type": "code",
   "execution_count": 28,
   "metadata": {
    "collapsed": false,
    "deletable": true,
    "editable": true
   },
   "outputs": [
    {
     "name": "stderr",
     "output_type": "stream",
     "text": [
      "2017-06-26 05:53:15,738|money_squirrel.bin.utils|INFO|Loading JSON from /Users/ravdek/code/money_squirrel/money_squirrel/config/coins.json\n"
     ]
    }
   ],
   "source": [
    "import datetime as dt\n",
    "from pytz import timezone\n",
    "from matplotlib import pyplot as plt\n",
    "import pandas as pd\n",
    "from IPython.display import HTML\n",
    "from money_squirrel.bin import utils\n",
    "\n",
    "%matplotlib inline\n",
    "plt.rcParams['figure.figsize'] = (12, 7)\n",
    "\n",
    "COINS = utils.load_config(\"coins\")\n",
    "\n",
    "def display_all(df):\n",
    "    return HTML(df.to_html())"
   ]
  },
  {
   "cell_type": "code",
   "execution_count": 3,
   "metadata": {
    "collapsed": false,
    "deletable": true,
    "editable": true
   },
   "outputs": [
    {
     "name": "stderr",
     "output_type": "stream",
     "text": [
      "2017-06-26 05:30:16,868|money_squirrel.bin.utils|INFO|Loading JSON from /Users/ravdek/code/money_squirrel/money_squirrel/config/postgres.json\n",
      "2017-06-26 05:30:16,869|money_squirrel.bin.utils|INFO|Connecting to postgres DB @ localhost\n",
      "2017-06-26 05:30:16,874|money_squirrel.bin.utils|INFO|Executing query:\n",
      "\n",
      "select * from gdax_quote\n",
      "\n"
     ]
    }
   ],
   "source": [
    "gdax_price = utils.query_pg(\"select * from gdax_quote\")"
   ]
  },
  {
   "cell_type": "code",
   "execution_count": 4,
   "metadata": {
    "collapsed": false,
    "deletable": true,
    "editable": true
   },
   "outputs": [
    {
     "data": {
      "text/html": [
       "<div>\n",
       "<table border=\"1\" class=\"dataframe\">\n",
       "  <thead>\n",
       "    <tr style=\"text-align: right;\">\n",
       "      <th></th>\n",
       "      <th>id</th>\n",
       "      <th>product</th>\n",
       "      <th>granularity</th>\n",
       "      <th>dt</th>\n",
       "      <th>low</th>\n",
       "      <th>high</th>\n",
       "      <th>open</th>\n",
       "      <th>close</th>\n",
       "      <th>volume</th>\n",
       "    </tr>\n",
       "  </thead>\n",
       "  <tbody>\n",
       "    <tr>\n",
       "      <th>0</th>\n",
       "      <td>1</td>\n",
       "      <td>BTC-USD</td>\n",
       "      <td>20</td>\n",
       "      <td>2017-04-18 00:58:00-07:00</td>\n",
       "      <td>1197.77</td>\n",
       "      <td>1197.82</td>\n",
       "      <td>1197.82</td>\n",
       "      <td>1197.77</td>\n",
       "      <td>0.309400</td>\n",
       "    </tr>\n",
       "    <tr>\n",
       "      <th>1</th>\n",
       "      <td>2</td>\n",
       "      <td>BTC-USD</td>\n",
       "      <td>20</td>\n",
       "      <td>2017-04-18 00:57:00-07:00</td>\n",
       "      <td>1197.82</td>\n",
       "      <td>1197.83</td>\n",
       "      <td>1197.83</td>\n",
       "      <td>1197.83</td>\n",
       "      <td>1.215607</td>\n",
       "    </tr>\n",
       "    <tr>\n",
       "      <th>2</th>\n",
       "      <td>3</td>\n",
       "      <td>BTC-USD</td>\n",
       "      <td>20</td>\n",
       "      <td>2017-04-18 00:56:00-07:00</td>\n",
       "      <td>1196.32</td>\n",
       "      <td>1198.00</td>\n",
       "      <td>1198.00</td>\n",
       "      <td>1197.95</td>\n",
       "      <td>10.995732</td>\n",
       "    </tr>\n",
       "    <tr>\n",
       "      <th>3</th>\n",
       "      <td>4</td>\n",
       "      <td>BTC-USD</td>\n",
       "      <td>20</td>\n",
       "      <td>2017-04-18 00:55:00-07:00</td>\n",
       "      <td>1197.99</td>\n",
       "      <td>1198.00</td>\n",
       "      <td>1198.00</td>\n",
       "      <td>1197.99</td>\n",
       "      <td>4.106907</td>\n",
       "    </tr>\n",
       "    <tr>\n",
       "      <th>4</th>\n",
       "      <td>5</td>\n",
       "      <td>BTC-USD</td>\n",
       "      <td>20</td>\n",
       "      <td>2017-04-18 00:54:00-07:00</td>\n",
       "      <td>1197.99</td>\n",
       "      <td>1198.00</td>\n",
       "      <td>1198.00</td>\n",
       "      <td>1198.00</td>\n",
       "      <td>4.394364</td>\n",
       "    </tr>\n",
       "  </tbody>\n",
       "</table>\n",
       "</div>"
      ],
      "text/plain": [
       "   id  product  granularity                         dt      low     high  \\\n",
       "0   1  BTC-USD           20  2017-04-18 00:58:00-07:00  1197.77  1197.82   \n",
       "1   2  BTC-USD           20  2017-04-18 00:57:00-07:00  1197.82  1197.83   \n",
       "2   3  BTC-USD           20  2017-04-18 00:56:00-07:00  1196.32  1198.00   \n",
       "3   4  BTC-USD           20  2017-04-18 00:55:00-07:00  1197.99  1198.00   \n",
       "4   5  BTC-USD           20  2017-04-18 00:54:00-07:00  1197.99  1198.00   \n",
       "\n",
       "      open    close     volume  \n",
       "0  1197.82  1197.77   0.309400  \n",
       "1  1197.83  1197.83   1.215607  \n",
       "2  1198.00  1197.95  10.995732  \n",
       "3  1198.00  1197.99   4.106907  \n",
       "4  1198.00  1198.00   4.394364  "
      ]
     },
     "execution_count": 4,
     "metadata": {},
     "output_type": "execute_result"
    }
   ],
   "source": [
    "gdax_price.head()"
   ]
  },
  {
   "cell_type": "code",
   "execution_count": 5,
   "metadata": {
    "collapsed": false,
    "deletable": true,
    "editable": true
   },
   "outputs": [
    {
     "data": {
      "text/plain": [
       "20    1448205\n",
       "60     232149\n",
       "Name: granularity, dtype: int64"
      ]
     },
     "execution_count": 5,
     "metadata": {},
     "output_type": "execute_result"
    }
   ],
   "source": [
    "gdax_price['granularity'].value_counts()"
   ]
  },
  {
   "cell_type": "code",
   "execution_count": 8,
   "metadata": {
    "collapsed": false
   },
   "outputs": [
    {
     "data": {
      "text/plain": [
       "pandas.tslib.Timestamp"
      ]
     },
     "execution_count": 8,
     "metadata": {},
     "output_type": "execute_result"
    }
   ],
   "source": [
    "gdax_price.loc[0, 'dt'].__class__"
   ]
  },
  {
   "cell_type": "code",
   "execution_count": 12,
   "metadata": {
    "collapsed": false
   },
   "outputs": [
    {
     "data": {
      "text/plain": [
       "<matplotlib.axes._subplots.AxesSubplot at 0x162f2e510>"
      ]
     },
     "execution_count": 12,
     "metadata": {},
     "output_type": "execute_result"
    },
    {
     "data": {
      "image/png": "[encoded data removed]",
      "text/plain": [
       "<matplotlib.figure.Figure at 0x11bde8410>"
      ]
     },
     "metadata": {},
     "output_type": "display_data"
    }
   ],
   "source": [
    "gdax_price.loc[gdax_price['granularity']==60, 'dt'].value_counts().plot()"
   ]
  },
  {
   "cell_type": "code",
   "execution_count": 29,
   "metadata": {
    "collapsed": false
   },
   "outputs": [
    {
     "data": {
      "text/plain": [
       "datetime.datetime(2017, 3, 31, 16, 59, tzinfo=<UTC>)"
      ]
     },
     "execution_count": 29,
     "metadata": {},
     "output_type": "execute_result"
    }
   ],
   "source": [
    "gdax_price.loc[gdax_price['granularity']==60, 'dt'].max().replace(tzinfo=timezone('UTC'))"
   ]
  },
  {
   "cell_type": "code",
   "execution_count": 20,
   "metadata": {
    "collapsed": false
   },
   "outputs": [
    {
     "data": {
      "text/plain": [
       "False    1680354\n",
       "Name: dt, dtype: int64"
      ]
     },
     "execution_count": 20,
     "metadata": {},
     "output_type": "execute_result"
    }
   ],
   "source": [
    "gdax_price.dt.isnull().value_counts()"
   ]
  },
  {
   "cell_type": "code",
   "execution_count": null,
   "metadata": {
    "collapsed": true
   },
   "outputs": [],
   "source": []
  }
 ],
 "metadata": {
  "kernelspec": {
   "display_name": "Django Shell-Plus",
   "language": "python",
   "name": "django_extensions"
  },
  "language_info": {
   "codemirror_mode": {
    "name": "ipython",
    "version": 2
   },
   "file_extension": ".py",
   "mimetype": "text/x-python",
   "name": "python",
   "nbconvert_exporter": "python",
   "pygments_lexer": "ipython2",
   "version": "2.7.10"
  }
 },
 "nbformat": 4,
 "nbformat_minor": 2
}
