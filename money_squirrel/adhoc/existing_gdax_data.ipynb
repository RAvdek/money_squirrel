{
 "cells": [
  {
   "cell_type": "code",
   "execution_count": 67,
   "metadata": {
    "collapsed": false,
    "deletable": true,
    "editable": true
   },
   "outputs": [
    {
     "name": "stderr",
     "output_type": "stream",
     "text": [
      "2017-06-28 05:46:30,248|money_squirrel.bin.utils|INFO|Loading JSON from /Users/ravdek/code/money_squirrel/money_squirrel/config/coins.json\n"
     ]
    }
   ],
   "source": [
    "import datetime as dt\n",
    "from pytz import timezone\n",
    "from matplotlib import pyplot as plt\n",
    "import pandas as pd\n",
    "from IPython.display import HTML\n",
    "from money_squirrel.bin import utils\n",
    "\n",
    "%matplotlib inline\n",
    "plt.rcParams['figure.figsize'] = (12, 7)\n",
    "\n",
    "COINS = utils.load_config(\"coins\")\n",
    "\n",
    "def display_all(df):\n",
    "    return HTML(df.to_html())"
   ]
  },
  {
   "cell_type": "code",
   "execution_count": 78,
   "metadata": {
    "collapsed": false,
    "deletable": true,
    "editable": true
   },
   "outputs": [
    {
     "name": "stderr",
     "output_type": "stream",
     "text": [
      "2017-06-29 07:12:28,290|money_squirrel.bin.utils|INFO|Loading JSON from /Users/ravdek/code/money_squirrel/money_squirrel/config/postgres.json\n",
      "2017-06-29 07:12:28,295|money_squirrel.bin.utils|INFO|Connecting to postgres DB @ localhost\n",
      "2017-06-29 07:12:28,304|money_squirrel.bin.utils|INFO|Executing query:\n",
      "\n",
      "select * from gdax_api_quote\n",
      "\n"
     ]
    }
   ],
   "source": [
    "gdax_price = utils.query_pg(\"select * from gdax_api_quote\")"
   ]
  },
  {
   "cell_type": "code",
   "execution_count": 79,
   "metadata": {
    "collapsed": false,
    "deletable": true,
    "editable": true
   },
   "outputs": [
    {
     "data": {
      "text/html": [
       "<div>\n",
       "<table border=\"1\" class=\"dataframe\">\n",
       "  <thead>\n",
       "    <tr style=\"text-align: right;\">\n",
       "      <th></th>\n",
       "      <th>id</th>\n",
       "      <th>product_id</th>\n",
       "      <th>granularity</th>\n",
       "      <th>dt</th>\n",
       "      <th>low</th>\n",
       "      <th>high</th>\n",
       "      <th>open</th>\n",
       "      <th>close</th>\n",
       "      <th>volume</th>\n",
       "    </tr>\n",
       "  </thead>\n",
       "  <tbody>\n",
       "    <tr>\n",
       "      <th>0</th>\n",
       "      <td>357455</td>\n",
       "      <td>BTC-USD</td>\n",
       "      <td>60</td>\n",
       "      <td>2017-05-04 20:30:00-07:00</td>\n",
       "      <td>1586.22</td>\n",
       "      <td>1590.21</td>\n",
       "      <td>1590.21</td>\n",
       "      <td>1587.49</td>\n",
       "      <td>6.397862</td>\n",
       "    </tr>\n",
       "    <tr>\n",
       "      <th>1</th>\n",
       "      <td>357456</td>\n",
       "      <td>BTC-USD</td>\n",
       "      <td>60</td>\n",
       "      <td>2017-05-04 20:29:00-07:00</td>\n",
       "      <td>1587.28</td>\n",
       "      <td>1592.04</td>\n",
       "      <td>1587.28</td>\n",
       "      <td>1590.25</td>\n",
       "      <td>6.247373</td>\n",
       "    </tr>\n",
       "    <tr>\n",
       "      <th>2</th>\n",
       "      <td>357457</td>\n",
       "      <td>BTC-USD</td>\n",
       "      <td>60</td>\n",
       "      <td>2017-05-04 20:28:00-07:00</td>\n",
       "      <td>1587.24</td>\n",
       "      <td>1587.25</td>\n",
       "      <td>1587.24</td>\n",
       "      <td>1587.25</td>\n",
       "      <td>6.121972</td>\n",
       "    </tr>\n",
       "    <tr>\n",
       "      <th>3</th>\n",
       "      <td>357458</td>\n",
       "      <td>BTC-USD</td>\n",
       "      <td>60</td>\n",
       "      <td>2017-05-04 20:27:00-07:00</td>\n",
       "      <td>1584.09</td>\n",
       "      <td>1592.04</td>\n",
       "      <td>1592.01</td>\n",
       "      <td>1587.00</td>\n",
       "      <td>25.300739</td>\n",
       "    </tr>\n",
       "    <tr>\n",
       "      <th>4</th>\n",
       "      <td>357459</td>\n",
       "      <td>BTC-USD</td>\n",
       "      <td>60</td>\n",
       "      <td>2017-05-04 20:26:00-07:00</td>\n",
       "      <td>1591.07</td>\n",
       "      <td>1593.99</td>\n",
       "      <td>1593.99</td>\n",
       "      <td>1592.02</td>\n",
       "      <td>3.791762</td>\n",
       "    </tr>\n",
       "  </tbody>\n",
       "</table>\n",
       "</div>"
      ],
      "text/plain": [
       "       id product_id  granularity                         dt      low  \\\n",
       "0  357455    BTC-USD           60  2017-05-04 20:30:00-07:00  1586.22   \n",
       "1  357456    BTC-USD           60  2017-05-04 20:29:00-07:00  1587.28   \n",
       "2  357457    BTC-USD           60  2017-05-04 20:28:00-07:00  1587.24   \n",
       "3  357458    BTC-USD           60  2017-05-04 20:27:00-07:00  1584.09   \n",
       "4  357459    BTC-USD           60  2017-05-04 20:26:00-07:00  1591.07   \n",
       "\n",
       "      high     open    close     volume  \n",
       "0  1590.21  1590.21  1587.49   6.397862  \n",
       "1  1592.04  1587.28  1590.25   6.247373  \n",
       "2  1587.25  1587.24  1587.25   6.121972  \n",
       "3  1592.04  1592.01  1587.00  25.300739  \n",
       "4  1593.99  1593.99  1592.02   3.791762  "
      ]
     },
     "execution_count": 79,
     "metadata": {},
     "output_type": "execute_result"
    }
   ],
   "source": [
    "gdax_price.head()"
   ]
  },
  {
   "cell_type": "code",
   "execution_count": 80,
   "metadata": {
    "collapsed": false,
    "deletable": true,
    "editable": true
   },
   "outputs": [
    {
     "data": {
      "text/plain": [
       "60    711548\n",
       "20        43\n",
       "Name: granularity, dtype: int64"
      ]
     },
     "execution_count": 80,
     "metadata": {},
     "output_type": "execute_result"
    }
   ],
   "source": [
    "gdax_price['granularity'].value_counts()"
   ]
  },
  {
   "cell_type": "code",
   "execution_count": 81,
   "metadata": {
    "collapsed": false,
    "deletable": true,
    "editable": true
   },
   "outputs": [
    {
     "data": {
      "text/plain": [
       "pandas.tslib.Timestamp"
      ]
     },
     "execution_count": 81,
     "metadata": {},
     "output_type": "execute_result"
    }
   ],
   "source": [
    "gdax_price.loc[0, 'dt'].__class__"
   ]
  },
  {
   "cell_type": "code",
   "execution_count": 82,
   "metadata": {
    "collapsed": false,
    "deletable": true,
    "editable": true
   },
   "outputs": [
    {
     "data": {
      "text/plain": [
       "<matplotlib.axes._subplots.AxesSubplot at 0x153172290>"
      ]
     },
     "execution_count": 82,
     "metadata": {},
     "output_type": "execute_result"
    },
    {
     "data": {
      "image/png": "[encoded data removed]",
      "text/plain": [
       "<matplotlib.figure.Figure at 0x1538b7810>"
      ]
     },
     "metadata": {},
     "output_type": "display_data"
    }
   ],
   "source": [
    "gdax_price.loc[gdax_price['granularity']==60, 'dt'].value_counts().plot()"
   ]
  },
  {
   "cell_type": "code",
   "execution_count": 37,
   "metadata": {
    "collapsed": false,
    "deletable": true,
    "editable": true
   },
   "outputs": [
    {
     "data": {
      "text/plain": [
       "datetime.datetime(2017, 4, 11, 9, 39, tzinfo=<UTC>)"
      ]
     },
     "execution_count": 37,
     "metadata": {},
     "output_type": "execute_result"
    }
   ],
   "source": [
    "gdax_price.loc[gdax_price['granularity']==60, 'dt'].max().replace(tzinfo=timezone('UTC'))"
   ]
  },
  {
   "cell_type": "code",
   "execution_count": 53,
   "metadata": {
    "collapsed": false,
    "deletable": true,
    "editable": true
   },
   "outputs": [
    {
     "data": {
      "text/plain": [
       "False    554735\n",
       "Name: dt, dtype: int64"
      ]
     },
     "execution_count": 53,
     "metadata": {},
     "output_type": "execute_result"
    }
   ],
   "source": [
    "gdax_price.dt.isnull().value_counts()"
   ]
  },
  {
   "cell_type": "code",
   "execution_count": 54,
   "metadata": {
    "collapsed": false,
    "deletable": true,
    "editable": true
   },
   "outputs": [
    {
     "data": {
      "text/plain": [
       "BTC-USD    234963\n",
       "ETH-USD    205784\n",
       "LTC-USD    113988\n",
       "Name: product_id, dtype: int64"
      ]
     },
     "execution_count": 54,
     "metadata": {},
     "output_type": "execute_result"
    }
   ],
   "source": [
    "gdax_price.product_id.value_counts()"
   ]
  },
  {
   "cell_type": "code",
   "execution_count": null,
   "metadata": {
    "collapsed": true,
    "deletable": true,
    "editable": true
   },
   "outputs": [],
   "source": []
  }
 ],
 "metadata": {
  "kernelspec": {
   "display_name": "Django Shell-Plus",
   "language": "python",
   "name": "django_extensions"
  },
  "language_info": {
   "codemirror_mode": {
    "name": "ipython",
    "version": 2
   },
   "file_extension": ".py",
   "mimetype": "text/x-python",
   "name": "python",
   "nbconvert_exporter": "python",
   "pygments_lexer": "ipython2",
   "version": "2.7.10"
  }
 },
 "nbformat": 4,
 "nbformat_minor": 2
}
