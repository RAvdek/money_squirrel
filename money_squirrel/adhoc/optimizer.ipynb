{
 "cells": [
  {
   "cell_type": "code",
   "execution_count": 4,
   "metadata": {
    "collapsed": false,
    "deletable": true,
    "editable": true
   },
   "outputs": [
    {
     "name": "stderr",
     "output_type": "stream",
     "text": [
      "2017-07-07 07:33:14,084|money_squirrel.bin.utils|INFO|Instantiated logger w/ name=money_squirrel.bin.utils\n",
      "2017-07-07 07:33:14,087|money_squirrel.bin.utils|INFO|Loading JSON from /Users/ravdek/code/money_squirrel/money_squirrel/config/coins.json\n"
     ]
    }
   ],
   "source": [
    "import datetime as dt\n",
    "from jinja2 import Template\n",
    "from pytz import timezone\n",
    "from matplotlib import pyplot as plt\n",
    "import pandas as pd\n",
    "from scipy.optimize import linprog\n",
    "from IPython.display import HTML\n",
    "from money_squirrel.bin import utils\n",
    "\n",
    "%matplotlib inline\n",
    "plt.rcParams['figure.figsize'] = (12, 7)\n",
    "\n",
    "COINS = utils.load_config(\"coins\")\n",
    "\n",
    "def display_all(df):\n",
    "    return HTML(df.to_html())"
   ]
  },
  {
   "cell_type": "markdown",
   "metadata": {
    "deletable": true,
    "editable": true
   },
   "source": [
    "# optimization\n",
    "\n",
    "Given some period of time, we'd like to know what were the optimal buys and sells during that period. We can express this as a linear programming problem:\n",
    "$$\n",
    "\\text{minimize}\\quad c^{T}\\ast x\\quad :\\quad A_{ub}\\ast x \\le b_{ub}\n",
    "$$\n",
    "where $c^{T}\\ast x$ is proportional to -(balance after trades), $A_{ub}, b_{ub}$ describe our constrains, and $x$ describes our trades.\n",
    "\n",
    "We want the coefficients of $x$ to describe the **percent of our balance** of product spent on a buy/sell with\n",
    "```\n",
    "x.index = [('BTC-USD', 'buy'), ..., ('LTC-USD', 'sell')]\n",
    "```\n",
    "To simplify, we can make everything a buy by reversing the \"sell\" pairs, and always let the coefficients of $x$ refer to the percent of the currency being withdrawn during a purchase:\n",
    "```\n",
    "('LTC-USD', 'sell') ~ ('USD', 'LTC')\n",
    "x.index = [('BTC', 'USD'), ('USD', 'BTC'), ..., ('USD', 'LTC')]\n",
    "```\n",
    "\n",
    "We'll also include pairs for holding: `('BTC-BTC')`, etc.\n",
    "\n",
    "We'll assume that starting balance, high/low prices during the time period, and closing prices are known. (We'll have them known during training and predicted in real time). Then our constraints become:\n",
    "$$\n",
    "0 \\le x_{(i, j)} \\le 1\\quad \\forall (i, j)\n",
    "\\sum_i x_{(i, j)} = 1 \\forall j\n",
    "$$\n",
    "\n",
    "We want to get a nice expression for the vector $c$, so we'll do some calculations. Let $b_i$ denote the starting balances of each currency and $B_i$ the ending balances during the time period. Let $p_i$ be our close price for each product in $USD$ and let $\\hat{p}_{i, j}$ be the price of currency $i$ WRT currency $j$ at which we will make our purchased. Let $\\alpha_{i, j}$ denote the fee for each trade pair. Note if we spend $x$ on a trade, we only use $(1-\\alpha_{i, j})\\ast x$ towards our purchase. For holding a product, $\\alpha_{i, i} = 0$\n",
    "\n",
    "$$\n",
    "B_i = - (\\text{amount withdrawn during trades}) + (\\text{amount deposited during trades}) = - \\sum_j b_i \\ast x_{j, i} + \\sum_j \\frac{(1-\\alpha_{i,j})\\ast b_j}{\\hat{p}_{i,j}}x_{i,j}\n",
    "$$\n",
    "\n",
    "If we cash out (and include cash-out costs), the final worth of our account in USD (which is what we'll want to optimize) is...\n",
    "\n",
    "$$\n",
    "finalWorth = \\sum_i (1 - \\alpha_{i, USD})\\ast p_i \\ast B_i\n",
    "$$\n",
    "\n",
    "Expanding as above\n",
    "$$\n",
    "= \\sum_i (1 - \\alpha_{i, USD})\\ast p_i \\ast [- \\sum_j b_i \\ast x_{j, i} + \\sum_j \\frac{(1-\\alpha_{i,j})\\ast b_j}{\\hat{p}_{i,j}}x_{i,j}]\n",
    "$$\n",
    "\n",
    "Distributing terms\n",
    "$$\n",
    "= - \\sum_{i,j} (1 - \\alpha_{i,USD}) \\ast p_i \\ast b_i \\ast x_{j,i}\n",
    "+ \\sum_{i,j} (1 - \\alpha_{i,USD}) \\ast p_i \\frac{(1-\\alpha_{i,j})\\ast b_j}{\\hat{p}_{i,j}} x_{i,j}\n",
    "$$\n",
    "\n",
    "Flipping i and j indicies in the withdraw terms\n",
    "$$\n",
    "= - \\sum_{i,j} (1 - \\alpha_{j,USD}) \\ast p_j \\ast b_j \\ast x_{i,j}\n",
    "+ \\sum_{i,j} (1 - \\alpha_{i,USD}) \\ast p_i \\frac{(1-\\alpha_{i,j})\\ast b_j}{\\hat{p}_{i,j}} x_{i,j}\n",
    "$$\n",
    "\n",
    "Smushing together\n",
    "$$\n",
    "= \\sum_{i,j} [(\\alpha_{j,USD} - 1) \\ast p_j \\ast b_j + (1 - \\alpha_{i,USD}) \\ast p_i \\frac{(1-\\alpha_{i,j})\\ast b_j}{\\hat{p}_{i,j}}] x_{i,j}\n",
    "$$\n",
    "\n",
    "So that when we throw a minus sign on\n",
    "$$\n",
    "c_{i,j} = b_j \\ast [(1 - \\alpha_{j,USD}) \\ast p_j + (\\alpha_{i,USD} - 1) \\ast p_i \\frac{(1-\\alpha_{i,j})}{\\hat{p}_{i,j}}]\n",
    "$$"
   ]
  },
  {
   "cell_type": "code",
   "execution_count": 9,
   "metadata": {
    "collapsed": false,
    "deletable": true,
    "editable": true
   },
   "outputs": [],
   "source": [
    "FEES = {\n",
    "    'BTC': .0025,\n",
    "    'LTC': .0025,\n",
    "    'ETH': .003,\n",
    "    'USD': 0.0\n",
    "}\n",
    "\n",
    "\n",
    "class MarketBuyOptimizer(object):\n",
    "    \"\"\"\n",
    "    We assume that the purchase prices are the same as the start prices\n",
    "    as one would assume to be the case for a market order.\n",
    "    \"\"\"\n",
    "    \n",
    "    def __init__(self, start_balance, start_prices, end_prices):\n",
    "        self.start_balance = start_balance\n",
    "        self.start_prices = start_prices\n",
    "        self.end_prices = end_prices\n",
    "        # We want pairs to be a list so that \n",
    "        # we can use the indicies for building arrays\n",
    "        self.pairs = []\n",
    "        for k in start_prices.keys():\n",
    "            i, j = k.split('-')\n",
    "            self.pairs.append((i, j))\n",
    "            self.pairs.append((j, i))\n",
    "        for currency in {p[0] for p in self.pairs}:\n",
    "            self.pairs.append((currency, currency))\n",
    "\n",
    "        \n",
    "    def _fee(self, i, j):\n",
    "        if i == j:\n",
    "            return 0\n",
    "        return max([FEES[i], FEES[j]])\n",
    "    \n",
    "    def _final_price_usd(self, i):\n",
    "        if i == 'USD':\n",
    "            return 1\n",
    "        else:\n",
    "            return self.end_prices['-'.join([i, 'USD'])]\n",
    "        \n",
    "    def _purchase_price(self, i, j):\n",
    "        # Here is that market price assumption\n",
    "        if i == j:\n",
    "            return 1\n",
    "        elif '-'.join([i, j]) in self.start_prices.keys():\n",
    "            return self.start_prices['-'.join([i, j])]\n",
    "        else:\n",
    "            return 1.0 / self.start_prices['-'.join([j, i])]\n",
    "        \n",
    "    def _cost_coef(self, i, j):\n",
    "        \n",
    "        cost_before_balance = (\n",
    "            (1.0 - self._fee(j, 'USD')) \n",
    "            * self._final_price_usd(j)\n",
    "        ) + (\n",
    "            (self._fee(i, 'USD') - 1.0) \n",
    "            * self._final_price_usd(i)\n",
    "            * (1 - self._fee(i, j))\n",
    "            / self._purchase_price(i, j)\n",
    "        )\n",
    "        return self.start_balance[j] * cost_before_balance\n",
    "    \n",
    "    def _cost_arr(self):\n",
    "        return pd.np.array([\n",
    "            self._cost_coef(*pair)\n",
    "            for pair in self.pairs\n",
    "        ])\n",
    "    \n",
    "    def _bounds(self):\n",
    "        a_ub = []\n",
    "        b_ub = []\n",
    "        a_eq = []\n",
    "        b_eq = []\n",
    "        \n",
    "        for i in range(len(self.pairs)):\n",
    "            # every coef must be >= 0\n",
    "            a_ub.append([-1 if j==i else 0 for j in range(len(self.pairs))])\n",
    "            b_ub.append(0)\n",
    "            # every coef must be <= 1\n",
    "            a_ub.append([1 if j==i else 0 for j in range(len(self.pairs))])\n",
    "            b_ub.append(1)\n",
    "            \n",
    "        # Together with holds (which is a self sell in our syntax)\n",
    "        # we must sell the entireity of a product\n",
    "        for currency in set([p[1] for p in self.pairs]):\n",
    "            a_eq.append([1 if p[1]==currency else 0 for p in self.pairs])\n",
    "            b_eq.append(1)\n",
    "            \n",
    "        return pd.np.array(a_ub), pd.np.array(b_ub), pd.np.array(a_eq), pd.np.array(b_eq)\n",
    "    \n",
    "    def fit(self):\n",
    "        \n",
    "        c = self._cost_arr()\n",
    "        a_ub, b_ub, a_eq, b_eq = self._bounds()\n",
    "        self.results = linprog(c, a_ub, b_ub, a_eq, b_eq)"
   ]
  },
  {
   "cell_type": "markdown",
   "metadata": {
    "deletable": true,
    "editable": true
   },
   "source": [
    "# Lets run some simulations"
   ]
  },
  {
   "cell_type": "code",
   "execution_count": 10,
   "metadata": {
    "collapsed": false,
    "deletable": true,
    "editable": true
   },
   "outputs": [
    {
     "data": {
      "text/plain": [
       "[(('ETH', 'USD'), 1.0),\n",
       " (('USD', 'ETH'), 0.0),\n",
       " (('LTC', 'USD'), 0.0),\n",
       " (('USD', 'LTC'), 0.0),\n",
       " (('BTC', 'USD'), 0.0),\n",
       " (('USD', 'BTC'), 1.0),\n",
       " (('LTC', 'LTC'), 1.0),\n",
       " (('ETH', 'ETH'), 1.0),\n",
       " (('USD', 'USD'), 0.0),\n",
       " (('BTC', 'BTC'), 0.0)]"
      ]
     },
     "execution_count": 10,
     "metadata": {},
     "output_type": "execute_result"
    }
   ],
   "source": [
    "# BTC dive bombs\n",
    "# ETH hockey sticks\n",
    "# LTC does nothing\n",
    "\n",
    "start_balance = {\n",
    "    'USD': 50,\n",
    "    'BTC': 50,\n",
    "    'ETH': 50,\n",
    "    'LTC': 50\n",
    "}\n",
    "start_prices = {\n",
    "    'BTC-USD': 1000,\n",
    "    'ETH-USD': 5,\n",
    "    'LTC-USD': 2\n",
    "}\n",
    "end_prices = {\n",
    "    'BTC-USD': 500,\n",
    "    'ETH-USD': 20,\n",
    "    'LTC-USD': 2.2\n",
    "}\n",
    "mbo = MarketBuyOptimizer(\n",
    "    start_balance=start_balance,\n",
    "    start_prices=start_prices,\n",
    "    end_prices=end_prices\n",
    ")\n",
    "mbo.fit()\n",
    "zip(mbo.pairs, mbo.results.x)"
   ]
  },
  {
   "cell_type": "code",
   "execution_count": 13,
   "metadata": {
    "collapsed": false,
    "deletable": true,
    "editable": true
   },
   "outputs": [
    {
     "data": {
      "text/plain": [
       "[(('ETH', 'USD'), 0.0),\n",
       " (('USD', 'ETH'), 1.0),\n",
       " (('LTC', 'USD'), 0.0),\n",
       " (('USD', 'LTC'), 1.0),\n",
       " (('BTC', 'USD'), 0.0),\n",
       " (('USD', 'BTC'), 1.0),\n",
       " (('LTC', 'LTC'), 0.0),\n",
       " (('ETH', 'ETH'), 0.0),\n",
       " (('USD', 'USD'), 1.0),\n",
       " (('BTC', 'BTC'), 0.0)]"
      ]
     },
     "execution_count": 13,
     "metadata": {},
     "output_type": "execute_result"
    }
   ],
   "source": [
    "# Everything crashes\n",
    "\n",
    "start_balance = {\n",
    "    'USD': 50,\n",
    "    'BTC': 50,\n",
    "    'ETH': 50,\n",
    "    'LTC': 50\n",
    "}\n",
    "start_prices = {\n",
    "    'BTC-USD': 1000,\n",
    "    'ETH-USD': 5,\n",
    "    'LTC-USD': 2\n",
    "}\n",
    "end_prices = {\n",
    "    'BTC-USD': 1,\n",
    "    'ETH-USD': 1,\n",
    "    'LTC-USD': 1\n",
    "}\n",
    "mbo = MarketBuyOptimizer(\n",
    "    start_balance=start_balance,\n",
    "    start_prices=start_prices,\n",
    "    end_prices=end_prices\n",
    ")\n",
    "mbo.fit()\n",
    "zip(mbo.pairs, mbo.results.x)"
   ]
  },
  {
   "cell_type": "code",
   "execution_count": 11,
   "metadata": {
    "collapsed": false,
    "deletable": true,
    "editable": true
   },
   "outputs": [
    {
     "data": {
      "text/plain": [
       "[(('ETH', 'USD'), 0.0),\n",
       " (('USD', 'ETH'), 0.0),\n",
       " (('LTC', 'USD'), 0.0),\n",
       " (('USD', 'LTC'), 0.0),\n",
       " (('BTC', 'USD'), 1.0),\n",
       " (('USD', 'BTC'), 0.0),\n",
       " (('LTC', 'LTC'), 1.0),\n",
       " (('ETH', 'ETH'), 1.0),\n",
       " (('USD', 'USD'), 0.0),\n",
       " (('BTC', 'BTC'), 1.0)]"
      ]
     },
     "execution_count": 11,
     "metadata": {},
     "output_type": "execute_result"
    }
   ],
   "source": [
    "# BTC doubles\n",
    "# ETH doubles\n",
    "# LTC raises a little\n",
    "\n",
    "start_balance = {\n",
    "    'USD': 50,\n",
    "    'BTC': 50,\n",
    "    'ETH': 50,\n",
    "    'LTC': 50\n",
    "}\n",
    "start_prices = {\n",
    "    'BTC-USD': 1000,\n",
    "    'ETH-USD': 5,\n",
    "    'LTC-USD': 2\n",
    "}\n",
    "end_prices = {\n",
    "    'BTC-USD': 2000,\n",
    "    'ETH-USD': 10,\n",
    "    'LTC-USD': 2.5\n",
    "}\n",
    "mbo = MarketBuyOptimizer(\n",
    "    start_balance=start_balance,\n",
    "    start_prices=start_prices,\n",
    "    end_prices=end_prices\n",
    ")\n",
    "mbo.fit()\n",
    "zip(mbo.pairs, mbo.results.x)"
   ]
  },
  {
   "cell_type": "code",
   "execution_count": 12,
   "metadata": {
    "collapsed": false,
    "deletable": true,
    "editable": true
   },
   "outputs": [
    {
     "data": {
      "text/plain": [
       "[(('BTC', 'BTC'), 1.0),\n",
       " (('BTC', 'ETH'), 0.0),\n",
       " (('BTC', 'LTC'), 1.0),\n",
       " (('BTC', 'USD'), 1.0),\n",
       " (('ETH', 'BTC'), 0.0),\n",
       " (('ETH', 'ETH'), 1.0),\n",
       " (('ETH', 'USD'), 0.0),\n",
       " (('LTC', 'BTC'), 0.0),\n",
       " (('LTC', 'LTC'), 0.0),\n",
       " (('LTC', 'USD'), 0.0),\n",
       " (('USD', 'BTC'), 0.0),\n",
       " (('USD', 'ETH'), 0.0),\n",
       " (('USD', 'LTC'), 0.0),\n",
       " (('USD', 'USD'), 0.0)]"
      ]
     },
     "execution_count": 12,
     "metadata": {},
     "output_type": "execute_result"
    }
   ],
   "source": [
    "# Same scenario except now we have LTC-BTC and ETH-BTC pairs\n",
    "\n",
    "start_balance = {\n",
    "    'USD': 50,\n",
    "    'BTC': 50,\n",
    "    'ETH': 50,\n",
    "    'LTC': 50\n",
    "}\n",
    "start_prices = {\n",
    "    'BTC-USD': 10,\n",
    "    'ETH-USD': 10,\n",
    "    'LTC-USD': 10,\n",
    "    'ETH-BTC': 1,\n",
    "    'LTC-BTC': 1\n",
    "}\n",
    "end_prices = {\n",
    "    'BTC-USD': 100,\n",
    "    'ETH-USD': 100,\n",
    "    'LTC-USD': 20,\n",
    "    'ETH-BTC': 1,\n",
    "    'LTC-BTC': 5\n",
    "}\n",
    "mbo = MarketBuyOptimizer(\n",
    "    start_balance=start_balance,\n",
    "    start_prices=start_prices,\n",
    "    end_prices=end_prices\n",
    ")\n",
    "mbo.fit()\n",
    "sorted(zip(mbo.pairs, mbo.results.x))"
   ]
  },
  {
   "cell_type": "code",
   "execution_count": null,
   "metadata": {
    "collapsed": true,
    "deletable": true,
    "editable": true
   },
   "outputs": [],
   "source": []
  }
 ],
 "metadata": {
  "kernelspec": {
   "display_name": "Django Shell-Plus",
   "language": "python",
   "name": "django_extensions"
  },
  "language_info": {
   "codemirror_mode": {
    "name": "ipython",
    "version": 2
   },
   "file_extension": ".py",
   "mimetype": "text/x-python",
   "name": "python",
   "nbconvert_exporter": "python",
   "pygments_lexer": "ipython2",
   "version": "2.7.10"
  }
 },
 "nbformat": 4,
 "nbformat_minor": 2
}
